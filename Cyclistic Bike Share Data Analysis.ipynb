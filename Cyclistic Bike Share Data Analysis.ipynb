{
 "cells": [
  {
   "cell_type": "markdown",
   "id": "c1711af8",
   "metadata": {},
   "source": [
    "## Cyclistic Bike Share Data Analysis"
   ]
  },
  {
   "cell_type": "markdown",
   "id": "71874465",
   "metadata": {},
   "source": [
    "### Introduction"
   ]
  },
  {
   "cell_type": "markdown",
   "id": "d6990ee8",
   "metadata": {},
   "source": [
    "This case study is the Capstone Project for the Google Data Analytics Professional Certificate. In this case study, I am a junior data analyst in the marketing analyst team at Cyclistic, a fictitious bike-share company in Chicago.\n",
    "\n",
    "Cyclistic is a bike-share programme with over 5,800 bicycles and 600 docking stations. Cyclistic distinguishes itself by also providing reclining bikes, hand tricycles, and cargo bikes, making bike-share more accessible to people with disabilities and riders who cannot use a standard two-wheeled bike. The majority of riders prefer traditional bikes, with approximately 8% opting for assistive options. Cyclists are more likely to ride for pleasure, but about 30% use them to commute to work every day.\n",
    "\n",
    "Cyclistic launched a successful bike-share programme in 2016. Since then, the programme has grown to a fleet of 5,824 geotracked bicycles that are locked into a network of 692 stations throughout Chicago. The bikes can be unlocked at any time from any station in the system and returned to any other station in the system.\n",
    "\n",
    "The director of marketing believes that increasing the number of annual memberships is critical to the company's future success. As a result, my team is interested in learning how casual riders and annual members use Cyclistic bikes differently. Our team will develop a new marketing strategy based on the findings to convert casual riders into annual members. However, Cyclistic executives must first approve our recommendations, which must be supported by compelling data insights and professional data visualisations.\n",
    "\n",
    "There are 3 pricing plans: single-ride passes, full-day passes, and annual memberships. Customers who purchase single-ride or full-day passes are referred to as Casual riders. Customers who purchase annual memberships are Cyclistic members.\n",
    "\n",
    "In order to answer the key business questions, I followed the steps of the data analysis process: ask, prepare, process, analyze, share, and act.\n",
    "\n"
   ]
  },
  {
   "cell_type": "markdown",
   "id": "25566e65",
   "metadata": {},
   "source": [
    "### Ask\n",
    "\n",
    "How do Annual members and Casual riders use Cyclistic bikes differently?\n",
    "\n",
    "The key stakeholders are:\n",
    "\n",
    "1. Lily Moreno, the director of marketing and my manager.\n",
    "2. Cyclistic executive team.\n",
    "\n"
   ]
  },
  {
   "cell_type": "markdown",
   "id": "093a4b43",
   "metadata": {},
   "source": [
    "### Prepare\n",
    "\n",
    "The data I used is Cyclistic’s Historical Trip Data to analyze and identify trends.\n",
    "\n",
    "The previous 12 months data from 01 April 2020 to 30th March 2021 is used for analysis.\n",
    "\n",
    "The data is stored in CSV files. Each file contains one month data. Thus a total of 12 .csv files.\n",
    "\n",
    "The data is structured data ie., Organised data.\n",
    "\n",
    "The datasets have a different name because Cyclistic is a fictional company. For the purposes of this case study, the datasets are appropriate.\n",
    "\n",
    "The data has been made available by Motivate International Inc.\n",
    "\n",
    "As this data is collected by a real bike sharing company in Chicago, there are no issues with bias or credibility. So its Reliable, Original, Current and Cited (as in ROCCC). \n",
    "\n",
    "As of data Integrity, its Accurate, Consistent and Trustworthy."
   ]
  },
  {
   "cell_type": "markdown",
   "id": "4ac7b6cc",
   "metadata": {},
   "source": [
    "### Process"
   ]
  },
  {
   "cell_type": "markdown",
   "id": "9103229b",
   "metadata": {},
   "source": [
    "### Importing all the necessary libraries\n"
   ]
  },
  {
   "cell_type": "code",
   "execution_count": 69,
   "id": "1105a1dd",
   "metadata": {
    "collapsed": true,
    "scrolled": true
   },
   "outputs": [],
   "source": [
    "import numpy as np\n",
    "import pandas as pd\n",
    "from pandas.api.types import CategoricalDtype\n",
    "import matplotlib.pyplot as plt\n",
    "import seaborn as sns"
   ]
  },
  {
   "cell_type": "code",
   "execution_count": 4,
   "id": "ca022f6d",
   "metadata": {
    "collapsed": true,
    "scrolled": true
   },
   "outputs": [],
   "source": [
    "%matplotlib inline"
   ]
  },
  {
   "cell_type": "markdown",
   "id": "443a931a",
   "metadata": {},
   "source": [
    "### Importing 12 csv files"
   ]
  },
  {
   "cell_type": "code",
   "execution_count": 6,
   "id": "c943afe8",
   "metadata": {
    "collapsed": true,
    "scrolled": true
   },
   "outputs": [],
   "source": [
    "Apr_2020 = pd.read_csv(\"202004-divvy-tripdata.csv\")\n",
    "May_2020 = pd.read_csv(\"202005-divvy-tripdata.csv\")\n",
    "Jun_2020 = pd.read_csv(\"202006-divvy-tripdata.csv\")\n",
    "Jul_2020 = pd.read_csv(\"202007-divvy-tripdata.csv\")\n",
    "Aug_2020 = pd.read_csv(\"202008-divvy-tripdata.csv\")\n",
    "Sep_2020 = pd.read_csv(\"202009-divvy-tripdata.csv\")\n",
    "Oct_2020 = pd.read_csv(\"202010-divvy-tripdata.csv\")\n",
    "Nov_2020 = pd.read_csv(\"202011-divvy-tripdata.csv\")\n",
    "Dec_2020 = pd.read_csv(\"202012-divvy-tripdata.csv\")\n",
    "Jan_2021 = pd.read_csv(\"202101-divvy-tripdata.csv\")\n",
    "Feb_2021 = pd.read_csv(\"202102-divvy-tripdata.csv\")\n",
    "Mar_2021 = pd.read_csv(\"202103-divvy-tripdata.csv\")"
   ]
  },
  {
   "cell_type": "markdown",
   "id": "3ecdffff",
   "metadata": {},
   "source": [
    "### Joining 12 CSV's as 1"
   ]
  },
  {
   "cell_type": "code",
   "execution_count": 7,
   "id": "b40dd8aa",
   "metadata": {
    "collapsed": true,
    "scrolled": true
   },
   "outputs": [],
   "source": [
    "df = pd.concat([Apr_2020,May_2020,Jun_2020,Jul_2020,Aug_2020,Sep_2020,Oct_2020,Nov_2020,Dec_2020,Jan_2021,Feb_2021,Mar_2021], ignore_index = True)"
   ]
  },
  {
   "cell_type": "code",
   "execution_count": 8,
   "id": "325f6769",
   "metadata": {
    "scrolled": true
   },
   "outputs": [
    {
     "data": {
      "text/html": [
       "<div>\n",
       "<style scoped>\n",
       "    .dataframe tbody tr th:only-of-type {\n",
       "        vertical-align: middle;\n",
       "    }\n",
       "\n",
       "    .dataframe tbody tr th {\n",
       "        vertical-align: top;\n",
       "    }\n",
       "\n",
       "    .dataframe thead th {\n",
       "        text-align: right;\n",
       "    }\n",
       "</style>\n",
       "<table border=\"1\" class=\"dataframe\">\n",
       "  <thead>\n",
       "    <tr style=\"text-align: right;\">\n",
       "      <th></th>\n",
       "      <th>ride_id</th>\n",
       "      <th>rideable_type</th>\n",
       "      <th>started_at</th>\n",
       "      <th>ended_at</th>\n",
       "      <th>start_station_name</th>\n",
       "      <th>start_station_id</th>\n",
       "      <th>end_station_name</th>\n",
       "      <th>end_station_id</th>\n",
       "      <th>start_lat</th>\n",
       "      <th>start_lng</th>\n",
       "      <th>end_lat</th>\n",
       "      <th>end_lng</th>\n",
       "      <th>member_casual</th>\n",
       "    </tr>\n",
       "  </thead>\n",
       "  <tbody>\n",
       "    <tr>\n",
       "      <th>0</th>\n",
       "      <td>A847FADBBC638E45</td>\n",
       "      <td>docked_bike</td>\n",
       "      <td>2020-04-26 17:45:14</td>\n",
       "      <td>2020-04-26 18:12:03</td>\n",
       "      <td>Eckhart Park</td>\n",
       "      <td>86</td>\n",
       "      <td>Lincoln Ave &amp; Diversey Pkwy</td>\n",
       "      <td>152.0</td>\n",
       "      <td>41.8964</td>\n",
       "      <td>-87.6610</td>\n",
       "      <td>41.9322</td>\n",
       "      <td>-87.6586</td>\n",
       "      <td>member</td>\n",
       "    </tr>\n",
       "    <tr>\n",
       "      <th>1</th>\n",
       "      <td>5405B80E996FF60D</td>\n",
       "      <td>docked_bike</td>\n",
       "      <td>2020-04-17 17:08:54</td>\n",
       "      <td>2020-04-17 17:17:03</td>\n",
       "      <td>Drake Ave &amp; Fullerton Ave</td>\n",
       "      <td>503</td>\n",
       "      <td>Kosciuszko Park</td>\n",
       "      <td>499.0</td>\n",
       "      <td>41.9244</td>\n",
       "      <td>-87.7154</td>\n",
       "      <td>41.9306</td>\n",
       "      <td>-87.7238</td>\n",
       "      <td>member</td>\n",
       "    </tr>\n",
       "    <tr>\n",
       "      <th>2</th>\n",
       "      <td>5DD24A79A4E006F4</td>\n",
       "      <td>docked_bike</td>\n",
       "      <td>2020-04-01 17:54:13</td>\n",
       "      <td>2020-04-01 18:08:36</td>\n",
       "      <td>McClurg Ct &amp; Erie St</td>\n",
       "      <td>142</td>\n",
       "      <td>Indiana Ave &amp; Roosevelt Rd</td>\n",
       "      <td>255.0</td>\n",
       "      <td>41.8945</td>\n",
       "      <td>-87.6179</td>\n",
       "      <td>41.8679</td>\n",
       "      <td>-87.6230</td>\n",
       "      <td>member</td>\n",
       "    </tr>\n",
       "    <tr>\n",
       "      <th>3</th>\n",
       "      <td>2A59BBDF5CDBA725</td>\n",
       "      <td>docked_bike</td>\n",
       "      <td>2020-04-07 12:50:19</td>\n",
       "      <td>2020-04-07 13:02:31</td>\n",
       "      <td>California Ave &amp; Division St</td>\n",
       "      <td>216</td>\n",
       "      <td>Wood St &amp; Augusta Blvd</td>\n",
       "      <td>657.0</td>\n",
       "      <td>41.9030</td>\n",
       "      <td>-87.6975</td>\n",
       "      <td>41.8992</td>\n",
       "      <td>-87.6722</td>\n",
       "      <td>member</td>\n",
       "    </tr>\n",
       "    <tr>\n",
       "      <th>4</th>\n",
       "      <td>27AD306C119C6158</td>\n",
       "      <td>docked_bike</td>\n",
       "      <td>2020-04-18 10:22:59</td>\n",
       "      <td>2020-04-18 11:15:54</td>\n",
       "      <td>Rush St &amp; Hubbard St</td>\n",
       "      <td>125</td>\n",
       "      <td>Sheridan Rd &amp; Lawrence Ave</td>\n",
       "      <td>323.0</td>\n",
       "      <td>41.8902</td>\n",
       "      <td>-87.6262</td>\n",
       "      <td>41.9695</td>\n",
       "      <td>-87.6547</td>\n",
       "      <td>casual</td>\n",
       "    </tr>\n",
       "  </tbody>\n",
       "</table>\n",
       "</div>"
      ],
      "text/plain": [
       "            ride_id rideable_type           started_at             ended_at  \\\n",
       "0  A847FADBBC638E45   docked_bike  2020-04-26 17:45:14  2020-04-26 18:12:03   \n",
       "1  5405B80E996FF60D   docked_bike  2020-04-17 17:08:54  2020-04-17 17:17:03   \n",
       "2  5DD24A79A4E006F4   docked_bike  2020-04-01 17:54:13  2020-04-01 18:08:36   \n",
       "3  2A59BBDF5CDBA725   docked_bike  2020-04-07 12:50:19  2020-04-07 13:02:31   \n",
       "4  27AD306C119C6158   docked_bike  2020-04-18 10:22:59  2020-04-18 11:15:54   \n",
       "\n",
       "             start_station_name start_station_id             end_station_name  \\\n",
       "0                  Eckhart Park               86  Lincoln Ave & Diversey Pkwy   \n",
       "1     Drake Ave & Fullerton Ave              503              Kosciuszko Park   \n",
       "2          McClurg Ct & Erie St              142   Indiana Ave & Roosevelt Rd   \n",
       "3  California Ave & Division St              216       Wood St & Augusta Blvd   \n",
       "4          Rush St & Hubbard St              125   Sheridan Rd & Lawrence Ave   \n",
       "\n",
       "  end_station_id  start_lat  start_lng  end_lat  end_lng member_casual  \n",
       "0          152.0    41.8964   -87.6610  41.9322 -87.6586        member  \n",
       "1          499.0    41.9244   -87.7154  41.9306 -87.7238        member  \n",
       "2          255.0    41.8945   -87.6179  41.8679 -87.6230        member  \n",
       "3          657.0    41.9030   -87.6975  41.8992 -87.6722        member  \n",
       "4          323.0    41.8902   -87.6262  41.9695 -87.6547        casual  "
      ]
     },
     "execution_count": 8,
     "metadata": {},
     "output_type": "execute_result"
    }
   ],
   "source": [
    "df.head()"
   ]
  },
  {
   "cell_type": "markdown",
   "id": "04819322",
   "metadata": {},
   "source": [
    "### Data Cleaning"
   ]
  },
  {
   "cell_type": "markdown",
   "id": "d1eafcf7",
   "metadata": {},
   "source": [
    "### Dropping columns that are not relevant for the analysis"
   ]
  },
  {
   "cell_type": "code",
   "execution_count": 9,
   "id": "e0d85bdb",
   "metadata": {
    "collapsed": true,
    "scrolled": true
   },
   "outputs": [],
   "source": [
    "df = df.drop(columns=['start_station_name', 'start_station_id', 'end_station_name', 'end_station_id', 'start_lat', 'start_lng', 'end_lat', 'end_lng'])"
   ]
  },
  {
   "cell_type": "code",
   "execution_count": 10,
   "id": "d723770b",
   "metadata": {
    "scrolled": true
   },
   "outputs": [
    {
     "data": {
      "text/html": [
       "<div>\n",
       "<style scoped>\n",
       "    .dataframe tbody tr th:only-of-type {\n",
       "        vertical-align: middle;\n",
       "    }\n",
       "\n",
       "    .dataframe tbody tr th {\n",
       "        vertical-align: top;\n",
       "    }\n",
       "\n",
       "    .dataframe thead th {\n",
       "        text-align: right;\n",
       "    }\n",
       "</style>\n",
       "<table border=\"1\" class=\"dataframe\">\n",
       "  <thead>\n",
       "    <tr style=\"text-align: right;\">\n",
       "      <th></th>\n",
       "      <th>ride_id</th>\n",
       "      <th>rideable_type</th>\n",
       "      <th>started_at</th>\n",
       "      <th>ended_at</th>\n",
       "      <th>member_casual</th>\n",
       "    </tr>\n",
       "  </thead>\n",
       "  <tbody>\n",
       "    <tr>\n",
       "      <th>0</th>\n",
       "      <td>A847FADBBC638E45</td>\n",
       "      <td>docked_bike</td>\n",
       "      <td>2020-04-26 17:45:14</td>\n",
       "      <td>2020-04-26 18:12:03</td>\n",
       "      <td>member</td>\n",
       "    </tr>\n",
       "    <tr>\n",
       "      <th>1</th>\n",
       "      <td>5405B80E996FF60D</td>\n",
       "      <td>docked_bike</td>\n",
       "      <td>2020-04-17 17:08:54</td>\n",
       "      <td>2020-04-17 17:17:03</td>\n",
       "      <td>member</td>\n",
       "    </tr>\n",
       "    <tr>\n",
       "      <th>2</th>\n",
       "      <td>5DD24A79A4E006F4</td>\n",
       "      <td>docked_bike</td>\n",
       "      <td>2020-04-01 17:54:13</td>\n",
       "      <td>2020-04-01 18:08:36</td>\n",
       "      <td>member</td>\n",
       "    </tr>\n",
       "    <tr>\n",
       "      <th>3</th>\n",
       "      <td>2A59BBDF5CDBA725</td>\n",
       "      <td>docked_bike</td>\n",
       "      <td>2020-04-07 12:50:19</td>\n",
       "      <td>2020-04-07 13:02:31</td>\n",
       "      <td>member</td>\n",
       "    </tr>\n",
       "    <tr>\n",
       "      <th>4</th>\n",
       "      <td>27AD306C119C6158</td>\n",
       "      <td>docked_bike</td>\n",
       "      <td>2020-04-18 10:22:59</td>\n",
       "      <td>2020-04-18 11:15:54</td>\n",
       "      <td>casual</td>\n",
       "    </tr>\n",
       "  </tbody>\n",
       "</table>\n",
       "</div>"
      ],
      "text/plain": [
       "            ride_id rideable_type           started_at             ended_at  \\\n",
       "0  A847FADBBC638E45   docked_bike  2020-04-26 17:45:14  2020-04-26 18:12:03   \n",
       "1  5405B80E996FF60D   docked_bike  2020-04-17 17:08:54  2020-04-17 17:17:03   \n",
       "2  5DD24A79A4E006F4   docked_bike  2020-04-01 17:54:13  2020-04-01 18:08:36   \n",
       "3  2A59BBDF5CDBA725   docked_bike  2020-04-07 12:50:19  2020-04-07 13:02:31   \n",
       "4  27AD306C119C6158   docked_bike  2020-04-18 10:22:59  2020-04-18 11:15:54   \n",
       "\n",
       "  member_casual  \n",
       "0        member  \n",
       "1        member  \n",
       "2        member  \n",
       "3        member  \n",
       "4        casual  "
      ]
     },
     "execution_count": 10,
     "metadata": {},
     "output_type": "execute_result"
    }
   ],
   "source": [
    "df.head()"
   ]
  },
  {
   "cell_type": "code",
   "execution_count": 11,
   "id": "4781df88",
   "metadata": {
    "scrolled": true
   },
   "outputs": [
    {
     "data": {
      "text/plain": [
       "ride_id          object\n",
       "rideable_type    object\n",
       "started_at       object\n",
       "ended_at         object\n",
       "member_casual    object\n",
       "dtype: object"
      ]
     },
     "execution_count": 11,
     "metadata": {},
     "output_type": "execute_result"
    }
   ],
   "source": [
    "df.dtypes"
   ]
  },
  {
   "cell_type": "markdown",
   "id": "14a3f93d",
   "metadata": {},
   "source": [
    "### Coverting datatype of \"started_at\" & \"ended_at\" columns to \"datetime64\" type."
   ]
  },
  {
   "cell_type": "code",
   "execution_count": 12,
   "id": "3a913db2",
   "metadata": {
    "collapsed": true,
    "scrolled": true
   },
   "outputs": [],
   "source": [
    "df['started_at'] = df['started_at'].astype('datetime64')\n",
    "df['ended_at'] = df['ended_at'].astype('datetime64')"
   ]
  },
  {
   "cell_type": "markdown",
   "id": "b4fba176",
   "metadata": {},
   "source": [
    "### Creating new column \"ride_length\" and changing its datatype to \"int32\""
   ]
  },
  {
   "cell_type": "code",
   "execution_count": 21,
   "id": "bbc04ea9",
   "metadata": {
    "collapsed": true,
    "scrolled": true
   },
   "outputs": [],
   "source": [
    "df['ride_length'] = df.ended_at.sub(df.started_at)/pd.Timedelta(minutes=1)\n",
    "df['ride_length'] = df['ride_length'].astype('int32')"
   ]
  },
  {
   "cell_type": "code",
   "execution_count": 22,
   "id": "fb18378b",
   "metadata": {
    "scrolled": true
   },
   "outputs": [
    {
     "data": {
      "text/html": [
       "<div>\n",
       "<style scoped>\n",
       "    .dataframe tbody tr th:only-of-type {\n",
       "        vertical-align: middle;\n",
       "    }\n",
       "\n",
       "    .dataframe tbody tr th {\n",
       "        vertical-align: top;\n",
       "    }\n",
       "\n",
       "    .dataframe thead th {\n",
       "        text-align: right;\n",
       "    }\n",
       "</style>\n",
       "<table border=\"1\" class=\"dataframe\">\n",
       "  <thead>\n",
       "    <tr style=\"text-align: right;\">\n",
       "      <th></th>\n",
       "      <th>ride_id</th>\n",
       "      <th>rideable_type</th>\n",
       "      <th>started_at</th>\n",
       "      <th>ended_at</th>\n",
       "      <th>member_casual</th>\n",
       "      <th>ride_length</th>\n",
       "    </tr>\n",
       "  </thead>\n",
       "  <tbody>\n",
       "    <tr>\n",
       "      <th>0</th>\n",
       "      <td>A847FADBBC638E45</td>\n",
       "      <td>docked_bike</td>\n",
       "      <td>2020-04-26 17:45:14</td>\n",
       "      <td>2020-04-26 18:12:03</td>\n",
       "      <td>member</td>\n",
       "      <td>26</td>\n",
       "    </tr>\n",
       "    <tr>\n",
       "      <th>1</th>\n",
       "      <td>5405B80E996FF60D</td>\n",
       "      <td>docked_bike</td>\n",
       "      <td>2020-04-17 17:08:54</td>\n",
       "      <td>2020-04-17 17:17:03</td>\n",
       "      <td>member</td>\n",
       "      <td>8</td>\n",
       "    </tr>\n",
       "    <tr>\n",
       "      <th>2</th>\n",
       "      <td>5DD24A79A4E006F4</td>\n",
       "      <td>docked_bike</td>\n",
       "      <td>2020-04-01 17:54:13</td>\n",
       "      <td>2020-04-01 18:08:36</td>\n",
       "      <td>member</td>\n",
       "      <td>14</td>\n",
       "    </tr>\n",
       "    <tr>\n",
       "      <th>3</th>\n",
       "      <td>2A59BBDF5CDBA725</td>\n",
       "      <td>docked_bike</td>\n",
       "      <td>2020-04-07 12:50:19</td>\n",
       "      <td>2020-04-07 13:02:31</td>\n",
       "      <td>member</td>\n",
       "      <td>12</td>\n",
       "    </tr>\n",
       "    <tr>\n",
       "      <th>4</th>\n",
       "      <td>27AD306C119C6158</td>\n",
       "      <td>docked_bike</td>\n",
       "      <td>2020-04-18 10:22:59</td>\n",
       "      <td>2020-04-18 11:15:54</td>\n",
       "      <td>casual</td>\n",
       "      <td>52</td>\n",
       "    </tr>\n",
       "  </tbody>\n",
       "</table>\n",
       "</div>"
      ],
      "text/plain": [
       "            ride_id rideable_type          started_at            ended_at  \\\n",
       "0  A847FADBBC638E45   docked_bike 2020-04-26 17:45:14 2020-04-26 18:12:03   \n",
       "1  5405B80E996FF60D   docked_bike 2020-04-17 17:08:54 2020-04-17 17:17:03   \n",
       "2  5DD24A79A4E006F4   docked_bike 2020-04-01 17:54:13 2020-04-01 18:08:36   \n",
       "3  2A59BBDF5CDBA725   docked_bike 2020-04-07 12:50:19 2020-04-07 13:02:31   \n",
       "4  27AD306C119C6158   docked_bike 2020-04-18 10:22:59 2020-04-18 11:15:54   \n",
       "\n",
       "  member_casual  ride_length  \n",
       "0        member           26  \n",
       "1        member            8  \n",
       "2        member           14  \n",
       "3        member           12  \n",
       "4        casual           52  "
      ]
     },
     "execution_count": 22,
     "metadata": {},
     "output_type": "execute_result"
    }
   ],
   "source": [
    "df.head()"
   ]
  },
  {
   "cell_type": "code",
   "execution_count": 25,
   "id": "38e7ffbc",
   "metadata": {
    "scrolled": true
   },
   "outputs": [
    {
     "data": {
      "text/html": [
       "<div>\n",
       "<style scoped>\n",
       "    .dataframe tbody tr th:only-of-type {\n",
       "        vertical-align: middle;\n",
       "    }\n",
       "\n",
       "    .dataframe tbody tr th {\n",
       "        vertical-align: top;\n",
       "    }\n",
       "\n",
       "    .dataframe thead th {\n",
       "        text-align: right;\n",
       "    }\n",
       "</style>\n",
       "<table border=\"1\" class=\"dataframe\">\n",
       "  <thead>\n",
       "    <tr style=\"text-align: right;\">\n",
       "      <th></th>\n",
       "      <th>ride_id</th>\n",
       "      <th>rideable_type</th>\n",
       "      <th>started_at</th>\n",
       "      <th>ended_at</th>\n",
       "      <th>member_casual</th>\n",
       "      <th>ride_length</th>\n",
       "    </tr>\n",
       "  </thead>\n",
       "  <tbody>\n",
       "    <tr>\n",
       "      <th>3044386</th>\n",
       "      <td>3ED2B8BCE6A914EF</td>\n",
       "      <td>electric_bike</td>\n",
       "      <td>2020-12-15 12:10:14</td>\n",
       "      <td>2020-11-25 08:00:16</td>\n",
       "      <td>member</td>\n",
       "      <td>-29049</td>\n",
       "    </tr>\n",
       "    <tr>\n",
       "      <th>3010031</th>\n",
       "      <td>6DF34F98F5DB335F</td>\n",
       "      <td>electric_bike</td>\n",
       "      <td>2020-12-15 11:35:39</td>\n",
       "      <td>2020-11-25 07:40:56</td>\n",
       "      <td>member</td>\n",
       "      <td>-29034</td>\n",
       "    </tr>\n",
       "    <tr>\n",
       "      <th>3009188</th>\n",
       "      <td>BE1F691E387D7072</td>\n",
       "      <td>docked_bike</td>\n",
       "      <td>2020-12-15 11:34:23</td>\n",
       "      <td>2020-11-25 08:00:15</td>\n",
       "      <td>member</td>\n",
       "      <td>-29014</td>\n",
       "    </tr>\n",
       "    <tr>\n",
       "      <th>3071081</th>\n",
       "      <td>321F7AE3AEDBAA13</td>\n",
       "      <td>docked_bike</td>\n",
       "      <td>2020-12-15 12:12:43</td>\n",
       "      <td>2020-11-25 08:42:16</td>\n",
       "      <td>member</td>\n",
       "      <td>-29010</td>\n",
       "    </tr>\n",
       "    <tr>\n",
       "      <th>3074111</th>\n",
       "      <td>BB4697B59E3FF12A</td>\n",
       "      <td>docked_bike</td>\n",
       "      <td>2020-12-15 11:34:38</td>\n",
       "      <td>2020-11-25 08:09:43</td>\n",
       "      <td>member</td>\n",
       "      <td>-29004</td>\n",
       "    </tr>\n",
       "    <tr>\n",
       "      <th>...</th>\n",
       "      <td>...</td>\n",
       "      <td>...</td>\n",
       "      <td>...</td>\n",
       "      <td>...</td>\n",
       "      <td>...</td>\n",
       "      <td>...</td>\n",
       "    </tr>\n",
       "    <tr>\n",
       "      <th>2074907</th>\n",
       "      <td>6F7C2DA80561D60C</td>\n",
       "      <td>docked_bike</td>\n",
       "      <td>2020-09-06 23:20:29</td>\n",
       "      <td>2020-10-12 11:46:25</td>\n",
       "      <td>casual</td>\n",
       "      <td>51145</td>\n",
       "    </tr>\n",
       "    <tr>\n",
       "      <th>32054</th>\n",
       "      <td>610943B07C04C09A</td>\n",
       "      <td>docked_bike</td>\n",
       "      <td>2020-04-04 23:10:33</td>\n",
       "      <td>2020-05-12 13:35:00</td>\n",
       "      <td>member</td>\n",
       "      <td>54144</td>\n",
       "    </tr>\n",
       "    <tr>\n",
       "      <th>2037998</th>\n",
       "      <td>F6A59D72627F2711</td>\n",
       "      <td>docked_bike</td>\n",
       "      <td>2020-09-02 18:34:33</td>\n",
       "      <td>2020-10-10 11:17:54</td>\n",
       "      <td>casual</td>\n",
       "      <td>54283</td>\n",
       "    </tr>\n",
       "    <tr>\n",
       "      <th>83799</th>\n",
       "      <td>F423D1055877936F</td>\n",
       "      <td>docked_bike</td>\n",
       "      <td>2020-04-03 16:33:09</td>\n",
       "      <td>2020-05-12 08:37:02</td>\n",
       "      <td>casual</td>\n",
       "      <td>55683</td>\n",
       "    </tr>\n",
       "    <tr>\n",
       "      <th>17516</th>\n",
       "      <td>FF4F7C2895AF4127</td>\n",
       "      <td>docked_bike</td>\n",
       "      <td>2020-04-19 20:50:53</td>\n",
       "      <td>2020-05-30 15:30:55</td>\n",
       "      <td>member</td>\n",
       "      <td>58720</td>\n",
       "    </tr>\n",
       "  </tbody>\n",
       "</table>\n",
       "<p>3489748 rows × 6 columns</p>\n",
       "</div>"
      ],
      "text/plain": [
       "                  ride_id  rideable_type          started_at  \\\n",
       "3044386  3ED2B8BCE6A914EF  electric_bike 2020-12-15 12:10:14   \n",
       "3010031  6DF34F98F5DB335F  electric_bike 2020-12-15 11:35:39   \n",
       "3009188  BE1F691E387D7072    docked_bike 2020-12-15 11:34:23   \n",
       "3071081  321F7AE3AEDBAA13    docked_bike 2020-12-15 12:12:43   \n",
       "3074111  BB4697B59E3FF12A    docked_bike 2020-12-15 11:34:38   \n",
       "...                   ...            ...                 ...   \n",
       "2074907  6F7C2DA80561D60C    docked_bike 2020-09-06 23:20:29   \n",
       "32054    610943B07C04C09A    docked_bike 2020-04-04 23:10:33   \n",
       "2037998  F6A59D72627F2711    docked_bike 2020-09-02 18:34:33   \n",
       "83799    F423D1055877936F    docked_bike 2020-04-03 16:33:09   \n",
       "17516    FF4F7C2895AF4127    docked_bike 2020-04-19 20:50:53   \n",
       "\n",
       "                   ended_at member_casual  ride_length  \n",
       "3044386 2020-11-25 08:00:16        member       -29049  \n",
       "3010031 2020-11-25 07:40:56        member       -29034  \n",
       "3009188 2020-11-25 08:00:15        member       -29014  \n",
       "3071081 2020-11-25 08:42:16        member       -29010  \n",
       "3074111 2020-11-25 08:09:43        member       -29004  \n",
       "...                     ...           ...          ...  \n",
       "2074907 2020-10-12 11:46:25        casual        51145  \n",
       "32054   2020-05-12 13:35:00        member        54144  \n",
       "2037998 2020-10-10 11:17:54        casual        54283  \n",
       "83799   2020-05-12 08:37:02        casual        55683  \n",
       "17516   2020-05-30 15:30:55        member        58720  \n",
       "\n",
       "[3489748 rows x 6 columns]"
      ]
     },
     "execution_count": 25,
     "metadata": {},
     "output_type": "execute_result"
    }
   ],
   "source": [
    "df.sort_values(by=['ride_length'],ascending=True)"
   ]
  },
  {
   "cell_type": "markdown",
   "id": "8347647c",
   "metadata": {},
   "source": [
    "We can see that in some of the cases the ride_length is negative. It can happen when the ending time entered is earlier that the starting time entered. \n",
    "This can't be true in real life so we are going to take only values that are greater than 0.\n"
   ]
  },
  {
   "cell_type": "code",
   "execution_count": 30,
   "id": "af2ffccf",
   "metadata": {
    "scrolled": true
   },
   "outputs": [
    {
     "data": {
      "text/plain": [
       "ride_id          1229\n",
       "rideable_type    1229\n",
       "started_at       1229\n",
       "ended_at         1229\n",
       "member_casual    1229\n",
       "ride_length      1229\n",
       "dtype: int64"
      ]
     },
     "execution_count": 30,
     "metadata": {},
     "output_type": "execute_result"
    }
   ],
   "source": [
    "df[df['ride_length']<0].count()"
   ]
  },
  {
   "cell_type": "markdown",
   "id": "bc0676f1",
   "metadata": {},
   "source": [
    "I will drop all negative values as this data is wrong"
   ]
  },
  {
   "cell_type": "code",
   "execution_count": 31,
   "id": "611146b1",
   "metadata": {
    "collapsed": true,
    "scrolled": true
   },
   "outputs": [],
   "source": [
    "df.drop(df[df.ride_length < 0].index, inplace=True)"
   ]
  },
  {
   "cell_type": "code",
   "execution_count": 34,
   "id": "c04aa2d4",
   "metadata": {
    "scrolled": true
   },
   "outputs": [
    {
     "data": {
      "text/html": [
       "<div>\n",
       "<style scoped>\n",
       "    .dataframe tbody tr th:only-of-type {\n",
       "        vertical-align: middle;\n",
       "    }\n",
       "\n",
       "    .dataframe tbody tr th {\n",
       "        vertical-align: top;\n",
       "    }\n",
       "\n",
       "    .dataframe thead th {\n",
       "        text-align: right;\n",
       "    }\n",
       "</style>\n",
       "<table border=\"1\" class=\"dataframe\">\n",
       "  <thead>\n",
       "    <tr style=\"text-align: right;\">\n",
       "      <th></th>\n",
       "      <th>ride_id</th>\n",
       "      <th>rideable_type</th>\n",
       "      <th>started_at</th>\n",
       "      <th>ended_at</th>\n",
       "      <th>member_casual</th>\n",
       "      <th>ride_length</th>\n",
       "    </tr>\n",
       "  </thead>\n",
       "  <tbody>\n",
       "    <tr>\n",
       "      <th>0</th>\n",
       "      <td>A847FADBBC638E45</td>\n",
       "      <td>docked_bike</td>\n",
       "      <td>2020-04-26 17:45:14</td>\n",
       "      <td>2020-04-26 18:12:03</td>\n",
       "      <td>member</td>\n",
       "      <td>26</td>\n",
       "    </tr>\n",
       "    <tr>\n",
       "      <th>1</th>\n",
       "      <td>5405B80E996FF60D</td>\n",
       "      <td>docked_bike</td>\n",
       "      <td>2020-04-17 17:08:54</td>\n",
       "      <td>2020-04-17 17:17:03</td>\n",
       "      <td>member</td>\n",
       "      <td>8</td>\n",
       "    </tr>\n",
       "    <tr>\n",
       "      <th>2</th>\n",
       "      <td>5DD24A79A4E006F4</td>\n",
       "      <td>docked_bike</td>\n",
       "      <td>2020-04-01 17:54:13</td>\n",
       "      <td>2020-04-01 18:08:36</td>\n",
       "      <td>member</td>\n",
       "      <td>14</td>\n",
       "    </tr>\n",
       "    <tr>\n",
       "      <th>3</th>\n",
       "      <td>2A59BBDF5CDBA725</td>\n",
       "      <td>docked_bike</td>\n",
       "      <td>2020-04-07 12:50:19</td>\n",
       "      <td>2020-04-07 13:02:31</td>\n",
       "      <td>member</td>\n",
       "      <td>12</td>\n",
       "    </tr>\n",
       "    <tr>\n",
       "      <th>4</th>\n",
       "      <td>27AD306C119C6158</td>\n",
       "      <td>docked_bike</td>\n",
       "      <td>2020-04-18 10:22:59</td>\n",
       "      <td>2020-04-18 11:15:54</td>\n",
       "      <td>casual</td>\n",
       "      <td>52</td>\n",
       "    </tr>\n",
       "  </tbody>\n",
       "</table>\n",
       "</div>"
      ],
      "text/plain": [
       "            ride_id rideable_type          started_at            ended_at  \\\n",
       "0  A847FADBBC638E45   docked_bike 2020-04-26 17:45:14 2020-04-26 18:12:03   \n",
       "1  5405B80E996FF60D   docked_bike 2020-04-17 17:08:54 2020-04-17 17:17:03   \n",
       "2  5DD24A79A4E006F4   docked_bike 2020-04-01 17:54:13 2020-04-01 18:08:36   \n",
       "3  2A59BBDF5CDBA725   docked_bike 2020-04-07 12:50:19 2020-04-07 13:02:31   \n",
       "4  27AD306C119C6158   docked_bike 2020-04-18 10:22:59 2020-04-18 11:15:54   \n",
       "\n",
       "  member_casual  ride_length  \n",
       "0        member           26  \n",
       "1        member            8  \n",
       "2        member           14  \n",
       "3        member           12  \n",
       "4        casual           52  "
      ]
     },
     "execution_count": 34,
     "metadata": {},
     "output_type": "execute_result"
    }
   ],
   "source": [
    "df.head()"
   ]
  },
  {
   "cell_type": "markdown",
   "id": "2abd9e9d",
   "metadata": {},
   "source": [
    "### Change datatypes of the remaining columns"
   ]
  },
  {
   "cell_type": "code",
   "execution_count": 42,
   "id": "471cc6bc",
   "metadata": {
    "collapsed": true,
    "scrolled": true
   },
   "outputs": [],
   "source": [
    "df = df.astype({'ride_id':'string', 'rideable_type':'category', 'member_casual':'category'})"
   ]
  },
  {
   "cell_type": "code",
   "execution_count": 43,
   "id": "ae59cc0c",
   "metadata": {
    "scrolled": true
   },
   "outputs": [
    {
     "data": {
      "text/plain": [
       "ride_id                  string\n",
       "rideable_type          category\n",
       "started_at       datetime64[ns]\n",
       "ended_at         datetime64[ns]\n",
       "member_casual          category\n",
       "ride_length               int32\n",
       "dtype: object"
      ]
     },
     "execution_count": 43,
     "metadata": {},
     "output_type": "execute_result"
    }
   ],
   "source": [
    "df.dtypes"
   ]
  },
  {
   "cell_type": "code",
   "execution_count": 44,
   "id": "527d1178",
   "metadata": {
    "scrolled": true
   },
   "outputs": [
    {
     "data": {
      "text/plain": [
       "ride_id          0\n",
       "rideable_type    0\n",
       "started_at       0\n",
       "ended_at         0\n",
       "member_casual    0\n",
       "ride_length      0\n",
       "dtype: int64"
      ]
     },
     "execution_count": 44,
     "metadata": {},
     "output_type": "execute_result"
    }
   ],
   "source": [
    "df.isnull().sum() #checking for null values"
   ]
  },
  {
   "cell_type": "code",
   "execution_count": 77,
   "id": "9dca3192",
   "metadata": {
    "collapsed": true,
    "scrolled": true
   },
   "outputs": [],
   "source": [
    "df['ride_id'] = df['ride_id'].str.strip() #removing white spaces if any"
   ]
  },
  {
   "cell_type": "code",
   "execution_count": 78,
   "id": "fc1f2b8b",
   "metadata": {
    "scrolled": true
   },
   "outputs": [
    {
     "data": {
      "text/html": [
       "<div>\n",
       "<style scoped>\n",
       "    .dataframe tbody tr th:only-of-type {\n",
       "        vertical-align: middle;\n",
       "    }\n",
       "\n",
       "    .dataframe tbody tr th {\n",
       "        vertical-align: top;\n",
       "    }\n",
       "\n",
       "    .dataframe thead th {\n",
       "        text-align: right;\n",
       "    }\n",
       "</style>\n",
       "<table border=\"1\" class=\"dataframe\">\n",
       "  <thead>\n",
       "    <tr style=\"text-align: right;\">\n",
       "      <th></th>\n",
       "      <th>ride_id</th>\n",
       "      <th>rideable_type</th>\n",
       "      <th>started_at</th>\n",
       "      <th>ended_at</th>\n",
       "      <th>member_casual</th>\n",
       "      <th>ride_length</th>\n",
       "      <th>Year</th>\n",
       "      <th>Month</th>\n",
       "      <th>Day_of_Week</th>\n",
       "      <th>Hour</th>\n",
       "    </tr>\n",
       "  </thead>\n",
       "  <tbody>\n",
       "  </tbody>\n",
       "</table>\n",
       "</div>"
      ],
      "text/plain": [
       "Empty DataFrame\n",
       "Columns: [ride_id, rideable_type, started_at, ended_at, member_casual, ride_length, Year, Month, Day_of_Week, Hour]\n",
       "Index: []"
      ]
     },
     "execution_count": 78,
     "metadata": {},
     "output_type": "execute_result"
    }
   ],
   "source": [
    "df[df['ride_id'].duplicated()] #Checking for duplicate values"
   ]
  },
  {
   "cell_type": "markdown",
   "id": "267ee5ff",
   "metadata": {},
   "source": [
    "### Analyse and share"
   ]
  },
  {
   "cell_type": "markdown",
   "id": "6b1b8fb8",
   "metadata": {},
   "source": [
    "### Adding more columns for better analysis"
   ]
  },
  {
   "cell_type": "code",
   "execution_count": 71,
   "id": "8c1c904b",
   "metadata": {
    "collapsed": true,
    "scrolled": true
   },
   "outputs": [],
   "source": [
    "df['Year'] = df['started_at'].dt.year\n",
    "\n",
    "month_names = ['January', 'February', 'March', 'April', 'May', 'June', 'July', 'August', 'September', 'October', 'November', 'December']\n",
    "df['Month'] = df['started_at'].dt.month_name()\n",
    "df['Month'] = df['Month'].astype(CategoricalDtype(categories=month_names, ordered=False))\n",
    "\n",
    "weekday_names = ['Sunday', 'Monday', 'Tuesday', 'Wednesday', 'Thursday', 'Friday', 'Saturday']\n",
    "df['Day_of_Week'] = df['started_at'].dt.day_name()\n",
    "df['Day_of_Week'] = df['Day_of_Week'].astype(CategoricalDtype(categories=weekday_names, ordered=False))\n",
    "\n",
    "df['hour'] = df['started_at'].dt.hour\n"
   ]
  },
  {
   "cell_type": "code",
   "execution_count": 76,
   "id": "8e1380ff",
   "metadata": {
    "scrolled": true
   },
   "outputs": [
    {
     "data": {
      "text/html": [
       "<div>\n",
       "<style scoped>\n",
       "    .dataframe tbody tr th:only-of-type {\n",
       "        vertical-align: middle;\n",
       "    }\n",
       "\n",
       "    .dataframe tbody tr th {\n",
       "        vertical-align: top;\n",
       "    }\n",
       "\n",
       "    .dataframe thead th {\n",
       "        text-align: right;\n",
       "    }\n",
       "</style>\n",
       "<table border=\"1\" class=\"dataframe\">\n",
       "  <thead>\n",
       "    <tr style=\"text-align: right;\">\n",
       "      <th></th>\n",
       "      <th>ride_id</th>\n",
       "      <th>rideable_type</th>\n",
       "      <th>started_at</th>\n",
       "      <th>ended_at</th>\n",
       "      <th>member_casual</th>\n",
       "      <th>ride_length</th>\n",
       "      <th>Year</th>\n",
       "      <th>Month</th>\n",
       "      <th>Day_of_Week</th>\n",
       "      <th>Hour</th>\n",
       "    </tr>\n",
       "  </thead>\n",
       "  <tbody>\n",
       "    <tr>\n",
       "      <th>0</th>\n",
       "      <td>A847FADBBC638E45</td>\n",
       "      <td>docked_bike</td>\n",
       "      <td>2020-04-26 17:45:14</td>\n",
       "      <td>2020-04-26 18:12:03</td>\n",
       "      <td>member</td>\n",
       "      <td>26</td>\n",
       "      <td>2020</td>\n",
       "      <td>April</td>\n",
       "      <td>Sunday</td>\n",
       "      <td>17</td>\n",
       "    </tr>\n",
       "    <tr>\n",
       "      <th>1</th>\n",
       "      <td>5405B80E996FF60D</td>\n",
       "      <td>docked_bike</td>\n",
       "      <td>2020-04-17 17:08:54</td>\n",
       "      <td>2020-04-17 17:17:03</td>\n",
       "      <td>member</td>\n",
       "      <td>8</td>\n",
       "      <td>2020</td>\n",
       "      <td>April</td>\n",
       "      <td>Friday</td>\n",
       "      <td>17</td>\n",
       "    </tr>\n",
       "    <tr>\n",
       "      <th>2</th>\n",
       "      <td>5DD24A79A4E006F4</td>\n",
       "      <td>docked_bike</td>\n",
       "      <td>2020-04-01 17:54:13</td>\n",
       "      <td>2020-04-01 18:08:36</td>\n",
       "      <td>member</td>\n",
       "      <td>14</td>\n",
       "      <td>2020</td>\n",
       "      <td>April</td>\n",
       "      <td>Wednesday</td>\n",
       "      <td>17</td>\n",
       "    </tr>\n",
       "    <tr>\n",
       "      <th>3</th>\n",
       "      <td>2A59BBDF5CDBA725</td>\n",
       "      <td>docked_bike</td>\n",
       "      <td>2020-04-07 12:50:19</td>\n",
       "      <td>2020-04-07 13:02:31</td>\n",
       "      <td>member</td>\n",
       "      <td>12</td>\n",
       "      <td>2020</td>\n",
       "      <td>April</td>\n",
       "      <td>Tuesday</td>\n",
       "      <td>12</td>\n",
       "    </tr>\n",
       "    <tr>\n",
       "      <th>4</th>\n",
       "      <td>27AD306C119C6158</td>\n",
       "      <td>docked_bike</td>\n",
       "      <td>2020-04-18 10:22:59</td>\n",
       "      <td>2020-04-18 11:15:54</td>\n",
       "      <td>casual</td>\n",
       "      <td>52</td>\n",
       "      <td>2020</td>\n",
       "      <td>April</td>\n",
       "      <td>Saturday</td>\n",
       "      <td>10</td>\n",
       "    </tr>\n",
       "  </tbody>\n",
       "</table>\n",
       "</div>"
      ],
      "text/plain": [
       "            ride_id rideable_type          started_at            ended_at  \\\n",
       "0  A847FADBBC638E45   docked_bike 2020-04-26 17:45:14 2020-04-26 18:12:03   \n",
       "1  5405B80E996FF60D   docked_bike 2020-04-17 17:08:54 2020-04-17 17:17:03   \n",
       "2  5DD24A79A4E006F4   docked_bike 2020-04-01 17:54:13 2020-04-01 18:08:36   \n",
       "3  2A59BBDF5CDBA725   docked_bike 2020-04-07 12:50:19 2020-04-07 13:02:31   \n",
       "4  27AD306C119C6158   docked_bike 2020-04-18 10:22:59 2020-04-18 11:15:54   \n",
       "\n",
       "  member_casual  ride_length  Year  Month Day_of_Week  Hour  \n",
       "0        member           26  2020  April      Sunday    17  \n",
       "1        member            8  2020  April      Friday    17  \n",
       "2        member           14  2020  April   Wednesday    17  \n",
       "3        member           12  2020  April     Tuesday    12  \n",
       "4        casual           52  2020  April    Saturday    10  "
      ]
     },
     "execution_count": 76,
     "metadata": {},
     "output_type": "execute_result"
    }
   ],
   "source": [
    "df.head()"
   ]
  },
  {
   "cell_type": "code",
   "execution_count": 60,
   "id": "a04ad081",
   "metadata": {
    "collapsed": true,
    "scrolled": true
   },
   "outputs": [],
   "source": [
    "df = df.astype({'Month':'category', 'Day_of_Week':'category'})"
   ]
  },
  {
   "cell_type": "code",
   "execution_count": 61,
   "id": "f5db7de0",
   "metadata": {
    "scrolled": true
   },
   "outputs": [
    {
     "data": {
      "text/plain": [
       "ride_id                  string\n",
       "rideable_type          category\n",
       "started_at       datetime64[ns]\n",
       "ended_at         datetime64[ns]\n",
       "member_casual          category\n",
       "ride_length               int32\n",
       "Year                      int64\n",
       "Month                  category\n",
       "Day_of_Week            category\n",
       "Hour                      int64\n",
       "dtype: object"
      ]
     },
     "execution_count": 61,
     "metadata": {},
     "output_type": "execute_result"
    }
   ],
   "source": [
    "df.dtypes"
   ]
  },
  {
   "cell_type": "code",
   "execution_count": 96,
   "id": "a6fe3a8e",
   "metadata": {
    "collapsed": true,
    "scrolled": true
   },
   "outputs": [],
   "source": [
    "### Total count of each customer type"
   ]
  },
  {
   "cell_type": "code",
   "execution_count": 90,
   "id": "d2df6fb0",
   "metadata": {
    "scrolled": true
   },
   "outputs": [
    {
     "data": {
      "text/html": [
       "<div>\n",
       "<style scoped>\n",
       "    .dataframe tbody tr th:only-of-type {\n",
       "        vertical-align: middle;\n",
       "    }\n",
       "\n",
       "    .dataframe tbody tr th {\n",
       "        vertical-align: top;\n",
       "    }\n",
       "\n",
       "    .dataframe thead tr th {\n",
       "        text-align: left;\n",
       "    }\n",
       "\n",
       "    .dataframe thead tr:last-of-type th {\n",
       "        text-align: right;\n",
       "    }\n",
       "</style>\n",
       "<table border=\"1\" class=\"dataframe\">\n",
       "  <thead>\n",
       "    <tr>\n",
       "      <th></th>\n",
       "      <th>count</th>\n",
       "    </tr>\n",
       "    <tr>\n",
       "      <th></th>\n",
       "      <th>ride_id</th>\n",
       "    </tr>\n",
       "    <tr>\n",
       "      <th>member_casual</th>\n",
       "      <th></th>\n",
       "    </tr>\n",
       "  </thead>\n",
       "  <tbody>\n",
       "    <tr>\n",
       "      <th>casual</th>\n",
       "      <td>1429998</td>\n",
       "    </tr>\n",
       "    <tr>\n",
       "      <th>member</th>\n",
       "      <td>2058521</td>\n",
       "    </tr>\n",
       "    <tr>\n",
       "      <th>Total Count</th>\n",
       "      <td>3488519</td>\n",
       "    </tr>\n",
       "  </tbody>\n",
       "</table>\n",
       "</div>"
      ],
      "text/plain": [
       "                 count\n",
       "               ride_id\n",
       "member_casual         \n",
       "casual         1429998\n",
       "member         2058521\n",
       "Total Count    3488519"
      ]
     },
     "execution_count": 90,
     "metadata": {},
     "output_type": "execute_result"
    }
   ],
   "source": [
    "pd.pivot_table(data=df,values='ride_id',index='member_casual',aggfunc=['count'],margins=True,margins_name='Total Count')"
   ]
  },
  {
   "cell_type": "code",
   "execution_count": 146,
   "id": "ae7e8c33",
   "metadata": {
    "scrolled": true
   },
   "outputs": [
    {
     "data": {
      "text/plain": [
       "<matplotlib.legend.Legend at 0x7fea98328490>"
      ]
     },
     "execution_count": 146,
     "metadata": {},
     "output_type": "execute_result"
    },
    {
     "data": {
      "image/png": "[encoded data removed]",
      "text/plain": [
       "<Figure size 1152x576 with 1 Axes>"
      ]
     },
     "metadata": {
      "needs_background": "light"
     },
     "output_type": "display_data"
    }
   ],
   "source": [
    "plt.figure(figsize=(16,8))\n",
    "sns.countplot(x='Month',hue='member_casual',data=df,palette='coolwarm')\n",
    "plt.title(\"Total number of bike rides by month and user type\")\n",
    "plt.xlabel(\"Month\")\n",
    "plt.ylabel(\"Number of rides\")\n",
    "plt.legend(['Casual','Member'])"
   ]
  },
  {
   "cell_type": "code",
   "execution_count": 145,
   "id": "89e07810",
   "metadata": {
    "scrolled": true
   },
   "outputs": [
    {
     "data": {
      "text/plain": [
       "<matplotlib.legend.Legend at 0x7fe957fc4d60>"
      ]
     },
     "execution_count": 145,
     "metadata": {},
     "output_type": "execute_result"
    },
    {
     "data": {
      "image/png": "[encoded data removed]",
      "text/plain": [
       "<Figure size 1152x576 with 1 Axes>"
      ]
     },
     "metadata": {
      "needs_background": "light"
     },
     "output_type": "display_data"
    }
   ],
   "source": [
    "plt.figure(figsize=(16,8))\n",
    "sns.countplot(x='Day_of_Week',hue='member_casual',data=df,palette='coolwarm')\n",
    "plt.title(\"Total number of bike rides by weekday and user type\")\n",
    "plt.xlabel(\"Day of week\")\n",
    "plt.ylabel(\"Number of rides\")\n",
    "plt.legend(['Casual','Member'])"
   ]
  },
  {
   "cell_type": "code",
   "execution_count": 144,
   "id": "3fa24052",
   "metadata": {
    "scrolled": true
   },
   "outputs": [
    {
     "data": {
      "text/plain": [
       "<matplotlib.legend.Legend at 0x7fe984762a60>"
      ]
     },
     "execution_count": 144,
     "metadata": {},
     "output_type": "execute_result"
    },
    {
     "data": {
      "image/png": "[encoded data removed]",
      "text/plain": [
       "<Figure size 1152x576 with 1 Axes>"
      ]
     },
     "metadata": {
      "needs_background": "light"
     },
     "output_type": "display_data"
    }
   ],
   "source": [
    "plt.figure(figsize=(16,8))\n",
    "sns.countplot(x='Hour',hue='member_casual',data=df,palette='coolwarm')\n",
    "plt.title(\"Total number of bike rides by hour and user type\")\n",
    "plt.xlabel(\"Hour\")\n",
    "plt.ylabel(\"Number of rides\")\n",
    "plt.legend(['Casual','Member'])"
   ]
  },
  {
   "cell_type": "code",
   "execution_count": 104,
   "id": "4761fc06",
   "metadata": {
    "collapsed": true,
    "scrolled": true
   },
   "outputs": [],
   "source": [
    "df1 = round(df.groupby(['Month', 'member_casual'], as_index=False).mean(),2)"
   ]
  },
  {
   "cell_type": "code",
   "execution_count": 143,
   "id": "c434cb02",
   "metadata": {
    "scrolled": true
   },
   "outputs": [
    {
     "data": {
      "image/png": "[encoded data removed]",
      "text/plain": [
       "<Figure size 1152x576 with 1 Axes>"
      ]
     },
     "metadata": {
      "needs_background": "light"
     },
     "output_type": "display_data"
    }
   ],
   "source": [
    "plt.figure(figsize=(16,8))\n",
    "sns.barplot(data=df1,x='Month',y='ride_length',hue='member_casual',palette='coolwarm')\n",
    "plt.xlabel('Month')\n",
    "plt.ylabel('Average Ride Length (minutes)')\n",
    "plt.title('Average bike ride by month and user type');"
   ]
  },
  {
   "cell_type": "code",
   "execution_count": 142,
   "id": "d36b2a9a",
   "metadata": {
    "scrolled": true
   },
   "outputs": [
    {
     "data": {
      "text/plain": [
       "Text(0.5, 1.0, 'Average bike ride by weekday and user type')"
      ]
     },
     "execution_count": 142,
     "metadata": {},
     "output_type": "execute_result"
    },
    {
     "data": {
      "image/png": "[encoded data removed]",
      "text/plain": [
       "<Figure size 1152x576 with 1 Axes>"
      ]
     },
     "metadata": {
      "needs_background": "light"
     },
     "output_type": "display_data"
    }
   ],
   "source": [
    "df2 = round(df.groupby(['Day_of_Week', 'member_casual'], as_index=False).mean(),2)\n",
    "plt.figure(figsize=(16,8))\n",
    "sns.barplot(data=df2,x='Day_of_Week',y='ride_length',hue='member_casual',palette='coolwarm')\n",
    "plt.xlabel('Day_of_Week')\n",
    "plt.ylabel('Average Ride Length (minutes)')\n",
    "plt.title('Average bike ride by weekday and user type')"
   ]
  },
  {
   "cell_type": "code",
   "execution_count": 147,
   "id": "d63809b2",
   "metadata": {
    "scrolled": true
   },
   "outputs": [
    {
     "data": {
      "text/plain": [
       "Text(0.5, 1.0, 'Average bike ride by hour and user type')"
      ]
     },
     "execution_count": 147,
     "metadata": {},
     "output_type": "execute_result"
    },
    {
     "data": {
      "image/png": "[encoded data removed]",
      "text/plain": [
       "<Figure size 1152x576 with 1 Axes>"
      ]
     },
     "metadata": {
      "needs_background": "light"
     },
     "output_type": "display_data"
    }
   ],
   "source": [
    "df3 = round(df.groupby(['Hour', 'member_casual'], as_index=False).mean(),2)\n",
    "plt.figure(figsize=(16,8))\n",
    "sns.barplot(data=df3,x='Hour',y='ride_length',hue='member_casual',palette='coolwarm')\n",
    "plt.xlabel('Hour')\n",
    "plt.ylabel('Average Ride Length (minutes)')\n",
    "plt.title('Average bike ride by hour and user type')"
   ]
  },
  {
   "cell_type": "code",
   "execution_count": 148,
   "id": "c13ec433",
   "metadata": {
    "scrolled": true
   },
   "outputs": [
    {
     "data": {
      "image/png": "[encoded data removed]",
      "text/plain": [
       "<Figure size 1152x576 with 1 Axes>"
      ]
     },
     "metadata": {
      "needs_background": "light"
     },
     "output_type": "display_data"
    }
   ],
   "source": [
    "df4 = df.groupby(['rideable_type', 'member_casual'], as_index=False).count()\n",
    "plt.figure(figsize=(16,8))\n",
    "sns.barplot(data=df4,x = 'rideable_type', y = 'ride_id',hue='member_casual',palette='coolwarm')\n",
    "plt.xlabel('Rideable Type')\n",
    "plt.ylabel('No. of rides')\n",
    "plt.title('Rideable Type for each user type');"
   ]
  },
  {
   "cell_type": "code",
   "execution_count": 159,
   "id": "b229536a",
   "metadata": {
    "scrolled": true
   },
   "outputs": [
    {
     "data": {
      "text/plain": [
       "rideable_type  member_casual\n",
       "classic_bike   casual             70801\n",
       "               member            249071\n",
       "docked_bike    casual           1116272\n",
       "               member           1441164\n",
       "electric_bike  casual            242925\n",
       "               member            368286\n",
       "Name: ride_id, dtype: int64"
      ]
     },
     "execution_count": 159,
     "metadata": {},
     "output_type": "execute_result"
    }
   ],
   "source": [
    "df.groupby(['rideable_type','member_casual'])['ride_id'].count()"
   ]
  },
  {
   "cell_type": "markdown",
   "id": "daed0d44",
   "metadata": {},
   "source": [
    "### Act"
   ]
  },
  {
   "cell_type": "markdown",
   "id": "a55ab162",
   "metadata": {},
   "source": [
    "### Conclusion"
   ]
  },
  {
   "cell_type": "markdown",
   "id": "03cfbe29",
   "metadata": {},
   "source": [
    "### Key Findings\n",
    "##### From the above visuals we can spot some key differences :\n",
    "\n",
    "1. Users with an annual membership complete more rides than casual riders\n",
    "2. Among casual riders, Fridays, Saturdays, and Sundays are the most popular usage days\n",
    "3. Docked_bike is the most popular rideable type for both casual and members.\n",
    "4. The average ride length of casual riders are more than twice as of members.\n",
    "5. From the average ride length difference, we can conclude that Annual members usually use bike share for daily commuting, while casual riders mostly use bike share for leisure rides mostly during Weekends.\n",
    "6. The demand on bike sharing service changes significantly around the year. Summers are the most popular, while winters see a more than 50% decrease in demand, most likely due to snowfall in Chicago."
   ]
  },
  {
   "cell_type": "markdown",
   "id": "24897079",
   "metadata": {},
   "source": [
    "### Recommendations\n",
    "1. A new Annual Membership package for Weekend usage only will attract current Weekend casual riders.\n",
    "2. Add more docked bikes to inventory given both casual riders and annual members prefer them over classic and electric bikes\n",
    "3. Promotions aiming at current Weekday casual riders must be implemented. Those promtions must include the financial savings of taking membership when compared to single passes and full day passes for a year long period."
   ]
  }
 ],
 "metadata": {
  "kernelspec": {
   "display_name": "Python 3 (ipykernel)",
   "language": "python",
   "name": "python3"
  },
  "language_info": {
   "codemirror_mode": {
    "name": "ipython",
    "version": 3
   },
   "file_extension": ".py",
   "mimetype": "text/x-python",
   "name": "python",
   "nbconvert_exporter": "python",
   "pygments_lexer": "ipython3",
   "version": "3.9.7"
  }
 },
 "nbformat": 4,
 "nbformat_minor": 5
}
