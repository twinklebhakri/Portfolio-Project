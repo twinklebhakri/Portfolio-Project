{
 "cells": [
  {
   "cell_type": "code",
   "execution_count": 1,
   "id": "43e3ee23",
   "metadata": {},
   "outputs": [],
   "source": [
    "import pandas as pd\n",
    "import numpy as np\n",
    "from sklearn.model_selection import train_test_split\n",
    "from sklearn.linear_model import LogisticRegression\n",
    "from sklearn.tree import DecisionTreeClassifier\n",
    "from sklearn.naive_bayes import MultinomialNB\n",
    "from dmba import classificationSummary, gainsChart, liftChart\n",
    "import matplotlib.pylab as plt"
   ]
  },
  {
   "cell_type": "code",
   "execution_count": 2,
   "id": "6221131f",
   "metadata": {},
   "outputs": [
    {
     "data": {
      "text/html": [
       "<div>\n",
       "<style scoped>\n",
       "    .dataframe tbody tr th:only-of-type {\n",
       "        vertical-align: middle;\n",
       "    }\n",
       "\n",
       "    .dataframe tbody tr th {\n",
       "        vertical-align: top;\n",
       "    }\n",
       "\n",
       "    .dataframe thead th {\n",
       "        text-align: right;\n",
       "    }\n",
       "</style>\n",
       "<table border=\"1\" class=\"dataframe\">\n",
       "  <thead>\n",
       "    <tr style=\"text-align: right;\">\n",
       "      <th></th>\n",
       "      <th>CRS_DEP_TIME</th>\n",
       "      <th>CARRIER</th>\n",
       "      <th>DEP_TIME</th>\n",
       "      <th>DEST</th>\n",
       "      <th>DISTANCE</th>\n",
       "      <th>FL_DATE</th>\n",
       "      <th>FL_NUM</th>\n",
       "      <th>ORIGIN</th>\n",
       "      <th>WEATHER</th>\n",
       "      <th>DAY_WEEK</th>\n",
       "      <th>DAY_OF_MONTH</th>\n",
       "      <th>TAIL_NUM</th>\n",
       "      <th>FLIGHT_STATUS</th>\n",
       "    </tr>\n",
       "  </thead>\n",
       "  <tbody>\n",
       "    <tr>\n",
       "      <th>0</th>\n",
       "      <td>1455</td>\n",
       "      <td>OH</td>\n",
       "      <td>1455</td>\n",
       "      <td>JFK</td>\n",
       "      <td>184</td>\n",
       "      <td>01-01-2004</td>\n",
       "      <td>5935</td>\n",
       "      <td>BWI</td>\n",
       "      <td>0</td>\n",
       "      <td>4</td>\n",
       "      <td>1</td>\n",
       "      <td>N940CA</td>\n",
       "      <td>ontime</td>\n",
       "    </tr>\n",
       "    <tr>\n",
       "      <th>1</th>\n",
       "      <td>1640</td>\n",
       "      <td>DH</td>\n",
       "      <td>1640</td>\n",
       "      <td>JFK</td>\n",
       "      <td>213</td>\n",
       "      <td>01-01-2004</td>\n",
       "      <td>6155</td>\n",
       "      <td>DCA</td>\n",
       "      <td>0</td>\n",
       "      <td>4</td>\n",
       "      <td>1</td>\n",
       "      <td>N405FJ</td>\n",
       "      <td>ontime</td>\n",
       "    </tr>\n",
       "    <tr>\n",
       "      <th>2</th>\n",
       "      <td>1245</td>\n",
       "      <td>DH</td>\n",
       "      <td>1245</td>\n",
       "      <td>LGA</td>\n",
       "      <td>229</td>\n",
       "      <td>01-01-2004</td>\n",
       "      <td>7208</td>\n",
       "      <td>IAD</td>\n",
       "      <td>0</td>\n",
       "      <td>4</td>\n",
       "      <td>1</td>\n",
       "      <td>N695BR</td>\n",
       "      <td>ontime</td>\n",
       "    </tr>\n",
       "    <tr>\n",
       "      <th>3</th>\n",
       "      <td>1715</td>\n",
       "      <td>DH</td>\n",
       "      <td>1709</td>\n",
       "      <td>LGA</td>\n",
       "      <td>229</td>\n",
       "      <td>01-01-2004</td>\n",
       "      <td>7215</td>\n",
       "      <td>IAD</td>\n",
       "      <td>0</td>\n",
       "      <td>4</td>\n",
       "      <td>1</td>\n",
       "      <td>N662BR</td>\n",
       "      <td>ontime</td>\n",
       "    </tr>\n",
       "    <tr>\n",
       "      <th>4</th>\n",
       "      <td>1039</td>\n",
       "      <td>DH</td>\n",
       "      <td>1035</td>\n",
       "      <td>LGA</td>\n",
       "      <td>229</td>\n",
       "      <td>01-01-2004</td>\n",
       "      <td>7792</td>\n",
       "      <td>IAD</td>\n",
       "      <td>0</td>\n",
       "      <td>4</td>\n",
       "      <td>1</td>\n",
       "      <td>N698BR</td>\n",
       "      <td>ontime</td>\n",
       "    </tr>\n",
       "  </tbody>\n",
       "</table>\n",
       "</div>"
      ],
      "text/plain": [
       "   CRS_DEP_TIME CARRIER  DEP_TIME DEST  DISTANCE     FL_DATE  FL_NUM ORIGIN  \\\n",
       "0          1455      OH      1455  JFK       184  01-01-2004    5935    BWI   \n",
       "1          1640      DH      1640  JFK       213  01-01-2004    6155    DCA   \n",
       "2          1245      DH      1245  LGA       229  01-01-2004    7208    IAD   \n",
       "3          1715      DH      1709  LGA       229  01-01-2004    7215    IAD   \n",
       "4          1039      DH      1035  LGA       229  01-01-2004    7792    IAD   \n",
       "\n",
       "   WEATHER  DAY_WEEK  DAY_OF_MONTH TAIL_NUM FLIGHT_STATUS  \n",
       "0        0         4             1   N940CA        ontime  \n",
       "1        0         4             1   N405FJ        ontime  \n",
       "2        0         4             1   N695BR        ontime  \n",
       "3        0         4             1   N662BR        ontime  \n",
       "4        0         4             1   N698BR        ontime  "
      ]
     },
     "execution_count": 2,
     "metadata": {},
     "output_type": "execute_result"
    }
   ],
   "source": [
    "delay_df = pd.read_csv('FlightDelays.csv') \n",
    "delay_df = delay_df.rename(columns={'Weather': 'WEATHER','Flight Status': 'FLIGHT_STATUS'})\n",
    "delay_df.head()"
   ]
  },
  {
   "cell_type": "markdown",
   "id": "fede9ec6",
   "metadata": {},
   "source": [
    "##### Since tail number and flight number are used only for identification of the flights, we can say that the tail number and the flight number does not impact the status of a flight. So, we will exclude them from further analysis."
   ]
  },
  {
   "cell_type": "markdown",
   "id": "81a40c24",
   "metadata": {},
   "source": [
    "##### From a little research on the factors causing flight delays. flight date and the day of the month do not cause any noticeable impact on the flight status. As a result, we will remove these two variables from our list of predictors."
   ]
  },
  {
   "cell_type": "markdown",
   "id": "1d2df582",
   "metadata": {},
   "source": [
    "##### If we know both the origin and destination, then the distance becomes redundant since it can be found out from knowing the origin and destination. So, we will exclude distance from further analysis."
   ]
  },
  {
   "cell_type": "code",
   "execution_count": 3,
   "id": "370c6095",
   "metadata": {},
   "outputs": [
    {
     "data": {
      "text/html": [
       "<div>\n",
       "<style scoped>\n",
       "    .dataframe tbody tr th:only-of-type {\n",
       "        vertical-align: middle;\n",
       "    }\n",
       "\n",
       "    .dataframe tbody tr th {\n",
       "        vertical-align: top;\n",
       "    }\n",
       "\n",
       "    .dataframe thead th {\n",
       "        text-align: right;\n",
       "    }\n",
       "</style>\n",
       "<table border=\"1\" class=\"dataframe\">\n",
       "  <thead>\n",
       "    <tr style=\"text-align: right;\">\n",
       "      <th></th>\n",
       "      <th>CRS_DEP_TIME</th>\n",
       "      <th>CARRIER</th>\n",
       "      <th>DEP_TIME</th>\n",
       "      <th>DEST</th>\n",
       "      <th>ORIGIN</th>\n",
       "      <th>WEATHER</th>\n",
       "      <th>DAY_WEEK</th>\n",
       "      <th>FLIGHT_STATUS</th>\n",
       "    </tr>\n",
       "  </thead>\n",
       "  <tbody>\n",
       "    <tr>\n",
       "      <th>0</th>\n",
       "      <td>1455</td>\n",
       "      <td>OH</td>\n",
       "      <td>1455</td>\n",
       "      <td>JFK</td>\n",
       "      <td>BWI</td>\n",
       "      <td>0</td>\n",
       "      <td>4</td>\n",
       "      <td>ontime</td>\n",
       "    </tr>\n",
       "    <tr>\n",
       "      <th>1</th>\n",
       "      <td>1640</td>\n",
       "      <td>DH</td>\n",
       "      <td>1640</td>\n",
       "      <td>JFK</td>\n",
       "      <td>DCA</td>\n",
       "      <td>0</td>\n",
       "      <td>4</td>\n",
       "      <td>ontime</td>\n",
       "    </tr>\n",
       "    <tr>\n",
       "      <th>2</th>\n",
       "      <td>1245</td>\n",
       "      <td>DH</td>\n",
       "      <td>1245</td>\n",
       "      <td>LGA</td>\n",
       "      <td>IAD</td>\n",
       "      <td>0</td>\n",
       "      <td>4</td>\n",
       "      <td>ontime</td>\n",
       "    </tr>\n",
       "    <tr>\n",
       "      <th>3</th>\n",
       "      <td>1715</td>\n",
       "      <td>DH</td>\n",
       "      <td>1709</td>\n",
       "      <td>LGA</td>\n",
       "      <td>IAD</td>\n",
       "      <td>0</td>\n",
       "      <td>4</td>\n",
       "      <td>ontime</td>\n",
       "    </tr>\n",
       "    <tr>\n",
       "      <th>4</th>\n",
       "      <td>1039</td>\n",
       "      <td>DH</td>\n",
       "      <td>1035</td>\n",
       "      <td>LGA</td>\n",
       "      <td>IAD</td>\n",
       "      <td>0</td>\n",
       "      <td>4</td>\n",
       "      <td>ontime</td>\n",
       "    </tr>\n",
       "  </tbody>\n",
       "</table>\n",
       "</div>"
      ],
      "text/plain": [
       "   CRS_DEP_TIME CARRIER  DEP_TIME DEST ORIGIN  WEATHER  DAY_WEEK FLIGHT_STATUS\n",
       "0          1455      OH      1455  JFK    BWI        0         4        ontime\n",
       "1          1640      DH      1640  JFK    DCA        0         4        ontime\n",
       "2          1245      DH      1245  LGA    IAD        0         4        ontime\n",
       "3          1715      DH      1709  LGA    IAD        0         4        ontime\n",
       "4          1039      DH      1035  LGA    IAD        0         4        ontime"
      ]
     },
     "execution_count": 3,
     "metadata": {},
     "output_type": "execute_result"
    }
   ],
   "source": [
    "delay_df = delay_df.drop(['FL_DATE', 'DAY_OF_MONTH', 'FL_NUM','TAIL_NUM','DISTANCE'], axis = 1)\n",
    "delay_df.head()"
   ]
  },
  {
   "cell_type": "code",
   "execution_count": 4,
   "id": "d8ff755a",
   "metadata": {
    "scrolled": true
   },
   "outputs": [
    {
     "data": {
      "text/html": [
       "<div>\n",
       "<style scoped>\n",
       "    .dataframe tbody tr th:only-of-type {\n",
       "        vertical-align: middle;\n",
       "    }\n",
       "\n",
       "    .dataframe tbody tr th {\n",
       "        vertical-align: top;\n",
       "    }\n",
       "\n",
       "    .dataframe thead th {\n",
       "        text-align: right;\n",
       "    }\n",
       "</style>\n",
       "<table border=\"1\" class=\"dataframe\">\n",
       "  <thead>\n",
       "    <tr style=\"text-align: right;\">\n",
       "      <th></th>\n",
       "      <th>CRS_DEP_TIME</th>\n",
       "      <th>DEP_TIME</th>\n",
       "      <th>WEATHER</th>\n",
       "      <th>DAY_WEEK</th>\n",
       "    </tr>\n",
       "  </thead>\n",
       "  <tbody>\n",
       "    <tr>\n",
       "      <th>CRS_DEP_TIME</th>\n",
       "      <td>1.000000</td>\n",
       "      <td>0.983523</td>\n",
       "      <td>-0.008266</td>\n",
       "      <td>0.051766</td>\n",
       "    </tr>\n",
       "    <tr>\n",
       "      <th>DEP_TIME</th>\n",
       "      <td>0.983523</td>\n",
       "      <td>1.000000</td>\n",
       "      <td>0.019001</td>\n",
       "      <td>0.051868</td>\n",
       "    </tr>\n",
       "    <tr>\n",
       "      <th>WEATHER</th>\n",
       "      <td>-0.008266</td>\n",
       "      <td>0.019001</td>\n",
       "      <td>1.000000</td>\n",
       "      <td>-0.123636</td>\n",
       "    </tr>\n",
       "    <tr>\n",
       "      <th>DAY_WEEK</th>\n",
       "      <td>0.051766</td>\n",
       "      <td>0.051868</td>\n",
       "      <td>-0.123636</td>\n",
       "      <td>1.000000</td>\n",
       "    </tr>\n",
       "  </tbody>\n",
       "</table>\n",
       "</div>"
      ],
      "text/plain": [
       "              CRS_DEP_TIME  DEP_TIME   WEATHER  DAY_WEEK\n",
       "CRS_DEP_TIME      1.000000  0.983523 -0.008266  0.051766\n",
       "DEP_TIME          0.983523  1.000000  0.019001  0.051868\n",
       "WEATHER          -0.008266  0.019001  1.000000 -0.123636\n",
       "DAY_WEEK          0.051766  0.051868 -0.123636  1.000000"
      ]
     },
     "execution_count": 4,
     "metadata": {},
     "output_type": "execute_result"
    }
   ],
   "source": [
    "corrMatrix = delay_df.corr()\n",
    "corrMatrix"
   ]
  },
  {
   "cell_type": "markdown",
   "id": "7becffd8",
   "metadata": {},
   "source": [
    "### Since there is a very high correlation between CRS_DEP_TIME and DEP_TIME, we will eliminate one of it, and it is DEP_TIME"
   ]
  },
  {
   "cell_type": "code",
   "execution_count": 5,
   "id": "787d7545",
   "metadata": {},
   "outputs": [],
   "source": [
    "delay_df = delay_df.drop(['DEP_TIME'], axis = 1)\n",
    "delay_df.to_csv('FlightDelaysTrainingData.csv', index = False)"
   ]
  },
  {
   "cell_type": "markdown",
   "id": "27afa9da",
   "metadata": {},
   "source": [
    "### Preparing the data for exploration using pivot tables"
   ]
  },
  {
   "cell_type": "code",
   "execution_count": 6,
   "id": "30eff448",
   "metadata": {},
   "outputs": [],
   "source": [
    "data_explore_1 = delay_df\n",
    "predictors = list(data_explore_1.columns)[0:7]\n",
    "data_explore = pd.get_dummies(data_explore_1[predictors], drop_first = False)\n",
    "data_explore['FLIGHT_STATUS'] = data_explore_1['FLIGHT_STATUS']\n",
    "data_explore['CARRIER'] = data_explore_1['CARRIER']\n",
    "data_explore['DEST'] = data_explore_1['DEST']\n",
    "data_explore['ORIGIN'] = data_explore_1['ORIGIN']\n",
    "data_explore.to_csv('FlightDelaysDataExploration.csv', index = False)"
   ]
  },
  {
   "cell_type": "markdown",
   "id": "b2f66068",
   "metadata": {},
   "source": [
    "### Number of flights delayed and ontime, grouped by the day of the week."
   ]
  },
  {
   "cell_type": "code",
   "execution_count": 7,
   "id": "271049c7",
   "metadata": {
    "scrolled": true
   },
   "outputs": [
    {
     "data": {
      "text/html": [
       "<div>\n",
       "<style scoped>\n",
       "    .dataframe tbody tr th:only-of-type {\n",
       "        vertical-align: middle;\n",
       "    }\n",
       "\n",
       "    .dataframe tbody tr th {\n",
       "        vertical-align: top;\n",
       "    }\n",
       "\n",
       "    .dataframe thead th {\n",
       "        text-align: right;\n",
       "    }\n",
       "</style>\n",
       "<table border=\"1\" class=\"dataframe\">\n",
       "  <thead>\n",
       "    <tr style=\"text-align: right;\">\n",
       "      <th></th>\n",
       "      <th>FLIGHT_STATUS_delayed</th>\n",
       "      <th>FLIGHT_STATUS_ontime</th>\n",
       "    </tr>\n",
       "    <tr>\n",
       "      <th>DAY_WEEK</th>\n",
       "      <th></th>\n",
       "      <th></th>\n",
       "    </tr>\n",
       "  </thead>\n",
       "  <tbody>\n",
       "    <tr>\n",
       "      <th>1</th>\n",
       "      <td>84</td>\n",
       "      <td>224.0</td>\n",
       "    </tr>\n",
       "    <tr>\n",
       "      <th>2</th>\n",
       "      <td>63</td>\n",
       "      <td>244.0</td>\n",
       "    </tr>\n",
       "    <tr>\n",
       "      <th>3</th>\n",
       "      <td>57</td>\n",
       "      <td>263.0</td>\n",
       "    </tr>\n",
       "    <tr>\n",
       "      <th>4</th>\n",
       "      <td>57</td>\n",
       "      <td>315.0</td>\n",
       "    </tr>\n",
       "    <tr>\n",
       "      <th>5</th>\n",
       "      <td>75</td>\n",
       "      <td>316.0</td>\n",
       "    </tr>\n",
       "    <tr>\n",
       "      <th>6</th>\n",
       "      <td>24</td>\n",
       "      <td>226.0</td>\n",
       "    </tr>\n",
       "    <tr>\n",
       "      <th>7</th>\n",
       "      <td>68</td>\n",
       "      <td>185.0</td>\n",
       "    </tr>\n",
       "  </tbody>\n",
       "</table>\n",
       "</div>"
      ],
      "text/plain": [
       "          FLIGHT_STATUS_delayed  FLIGHT_STATUS_ontime\n",
       "DAY_WEEK                                             \n",
       "1                            84                 224.0\n",
       "2                            63                 244.0\n",
       "3                            57                 263.0\n",
       "4                            57                 315.0\n",
       "5                            75                 316.0\n",
       "6                            24                 226.0\n",
       "7                            68                 185.0"
      ]
     },
     "execution_count": 7,
     "metadata": {},
     "output_type": "execute_result"
    }
   ],
   "source": [
    "data_explore.pivot_table(index = ['DAY_WEEK'], values = ['FLIGHT_STATUS_delayed','FLIGHT_STATUS_ontime'], aggfunc = np.sum)"
   ]
  },
  {
   "cell_type": "markdown",
   "id": "ee387140",
   "metadata": {},
   "source": [
    "### Proportion of the flights delayed and ontime, grouped by the carriers"
   ]
  },
  {
   "cell_type": "code",
   "execution_count": 8,
   "id": "869ce3dc",
   "metadata": {
    "scrolled": true
   },
   "outputs": [
    {
     "data": {
      "text/html": [
       "<div>\n",
       "<style scoped>\n",
       "    .dataframe tbody tr th:only-of-type {\n",
       "        vertical-align: middle;\n",
       "    }\n",
       "\n",
       "    .dataframe tbody tr th {\n",
       "        vertical-align: top;\n",
       "    }\n",
       "\n",
       "    .dataframe thead th {\n",
       "        text-align: right;\n",
       "    }\n",
       "</style>\n",
       "<table border=\"1\" class=\"dataframe\">\n",
       "  <thead>\n",
       "    <tr style=\"text-align: right;\">\n",
       "      <th></th>\n",
       "      <th>FLIGHT_STATUS_delayed</th>\n",
       "      <th>FLIGHT_STATUS_ontime</th>\n",
       "    </tr>\n",
       "    <tr>\n",
       "      <th>CARRIER</th>\n",
       "      <th></th>\n",
       "      <th></th>\n",
       "    </tr>\n",
       "  </thead>\n",
       "  <tbody>\n",
       "    <tr>\n",
       "      <th>CO</th>\n",
       "      <td>0.276596</td>\n",
       "      <td>0.723404</td>\n",
       "    </tr>\n",
       "    <tr>\n",
       "      <th>DH</th>\n",
       "      <td>0.248639</td>\n",
       "      <td>0.751361</td>\n",
       "    </tr>\n",
       "    <tr>\n",
       "      <th>DL</th>\n",
       "      <td>0.121134</td>\n",
       "      <td>0.878866</td>\n",
       "    </tr>\n",
       "    <tr>\n",
       "      <th>MQ</th>\n",
       "      <td>0.271186</td>\n",
       "      <td>0.728814</td>\n",
       "    </tr>\n",
       "    <tr>\n",
       "      <th>OH</th>\n",
       "      <td>0.133333</td>\n",
       "      <td>0.866667</td>\n",
       "    </tr>\n",
       "    <tr>\n",
       "      <th>RU</th>\n",
       "      <td>0.230392</td>\n",
       "      <td>0.769608</td>\n",
       "    </tr>\n",
       "    <tr>\n",
       "      <th>UA</th>\n",
       "      <td>0.161290</td>\n",
       "      <td>0.838710</td>\n",
       "    </tr>\n",
       "    <tr>\n",
       "      <th>US</th>\n",
       "      <td>0.086634</td>\n",
       "      <td>0.913366</td>\n",
       "    </tr>\n",
       "  </tbody>\n",
       "</table>\n",
       "</div>"
      ],
      "text/plain": [
       "         FLIGHT_STATUS_delayed  FLIGHT_STATUS_ontime\n",
       "CARRIER                                             \n",
       "CO                    0.276596              0.723404\n",
       "DH                    0.248639              0.751361\n",
       "DL                    0.121134              0.878866\n",
       "MQ                    0.271186              0.728814\n",
       "OH                    0.133333              0.866667\n",
       "RU                    0.230392              0.769608\n",
       "UA                    0.161290              0.838710\n",
       "US                    0.086634              0.913366"
      ]
     },
     "execution_count": 8,
     "metadata": {},
     "output_type": "execute_result"
    }
   ],
   "source": [
    "data_explore.pivot_table(index = ['CARRIER'],  values = ['FLIGHT_STATUS_delayed','FLIGHT_STATUS_ontime'], aggfunc = np.mean)"
   ]
  },
  {
   "cell_type": "markdown",
   "id": "8d1ec162",
   "metadata": {},
   "source": [
    "### Number of flight delays due to the impact of weather at origins and destinations"
   ]
  },
  {
   "cell_type": "code",
   "execution_count": 9,
   "id": "bc2be4fa",
   "metadata": {
    "scrolled": true
   },
   "outputs": [
    {
     "data": {
      "text/html": [
       "<div>\n",
       "<style scoped>\n",
       "    .dataframe tbody tr th:only-of-type {\n",
       "        vertical-align: middle;\n",
       "    }\n",
       "\n",
       "    .dataframe tbody tr th {\n",
       "        vertical-align: top;\n",
       "    }\n",
       "\n",
       "    .dataframe thead th {\n",
       "        text-align: right;\n",
       "    }\n",
       "</style>\n",
       "<table border=\"1\" class=\"dataframe\">\n",
       "  <thead>\n",
       "    <tr style=\"text-align: right;\">\n",
       "      <th></th>\n",
       "      <th></th>\n",
       "      <th>DEST_EWR</th>\n",
       "      <th>DEST_JFK</th>\n",
       "      <th>DEST_LGA</th>\n",
       "      <th>ORIGIN_BWI</th>\n",
       "      <th>ORIGIN_DCA</th>\n",
       "      <th>ORIGIN_IAD</th>\n",
       "    </tr>\n",
       "    <tr>\n",
       "      <th>FLIGHT_STATUS</th>\n",
       "      <th>WEATHER</th>\n",
       "      <th></th>\n",
       "      <th></th>\n",
       "      <th></th>\n",
       "      <th></th>\n",
       "      <th></th>\n",
       "      <th></th>\n",
       "    </tr>\n",
       "  </thead>\n",
       "  <tbody>\n",
       "    <tr>\n",
       "      <th rowspan=\"2\" valign=\"top\">delayed</th>\n",
       "      <th>0</th>\n",
       "      <td>153.0</td>\n",
       "      <td>76.0</td>\n",
       "      <td>167.0</td>\n",
       "      <td>36</td>\n",
       "      <td>204.0</td>\n",
       "      <td>156.0</td>\n",
       "    </tr>\n",
       "    <tr>\n",
       "      <th>1</th>\n",
       "      <td>8.0</td>\n",
       "      <td>8.0</td>\n",
       "      <td>16.0</td>\n",
       "      <td>1</td>\n",
       "      <td>17.0</td>\n",
       "      <td>14.0</td>\n",
       "    </tr>\n",
       "    <tr>\n",
       "      <th>ontime</th>\n",
       "      <th>0</th>\n",
       "      <td>504.0</td>\n",
       "      <td>302.0</td>\n",
       "      <td>967.0</td>\n",
       "      <td>108</td>\n",
       "      <td>1149.0</td>\n",
       "      <td>516.0</td>\n",
       "    </tr>\n",
       "  </tbody>\n",
       "</table>\n",
       "</div>"
      ],
      "text/plain": [
       "                       DEST_EWR  DEST_JFK  DEST_LGA  ORIGIN_BWI  ORIGIN_DCA  \\\n",
       "FLIGHT_STATUS WEATHER                                                         \n",
       "delayed       0           153.0      76.0     167.0          36       204.0   \n",
       "              1             8.0       8.0      16.0           1        17.0   \n",
       "ontime        0           504.0     302.0     967.0         108      1149.0   \n",
       "\n",
       "                       ORIGIN_IAD  \n",
       "FLIGHT_STATUS WEATHER              \n",
       "delayed       0             156.0  \n",
       "              1              14.0  \n",
       "ontime        0             516.0  "
      ]
     },
     "execution_count": 9,
     "metadata": {},
     "output_type": "execute_result"
    }
   ],
   "source": [
    "data_explore.pivot_table(index = ['FLIGHT_STATUS', 'WEATHER'],  values = ['ORIGIN_BWI','ORIGIN_DCA','ORIGIN_IAD','DEST_JFK','DEST_EWR','DEST_LGA'], aggfunc = np.sum)"
   ]
  },
  {
   "cell_type": "markdown",
   "id": "e9982fc7",
   "metadata": {},
   "source": [
    "### Finding the route that has the most delays"
   ]
  },
  {
   "cell_type": "code",
   "execution_count": 10,
   "id": "9acea6b7",
   "metadata": {},
   "outputs": [
    {
     "data": {
      "text/html": [
       "<div>\n",
       "<style scoped>\n",
       "    .dataframe tbody tr th:only-of-type {\n",
       "        vertical-align: middle;\n",
       "    }\n",
       "\n",
       "    .dataframe tbody tr th {\n",
       "        vertical-align: top;\n",
       "    }\n",
       "\n",
       "    .dataframe thead tr th {\n",
       "        text-align: left;\n",
       "    }\n",
       "\n",
       "    .dataframe thead tr:last-of-type th {\n",
       "        text-align: right;\n",
       "    }\n",
       "</style>\n",
       "<table border=\"1\" class=\"dataframe\">\n",
       "  <thead>\n",
       "    <tr>\n",
       "      <th></th>\n",
       "      <th colspan=\"3\" halign=\"left\">FLIGHT_STATUS_delayed</th>\n",
       "      <th colspan=\"3\" halign=\"left\">FLIGHT_STATUS_ontime</th>\n",
       "    </tr>\n",
       "    <tr>\n",
       "      <th>DEST</th>\n",
       "      <th>EWR</th>\n",
       "      <th>JFK</th>\n",
       "      <th>LGA</th>\n",
       "      <th>EWR</th>\n",
       "      <th>JFK</th>\n",
       "      <th>LGA</th>\n",
       "    </tr>\n",
       "    <tr>\n",
       "      <th>ORIGIN</th>\n",
       "      <th></th>\n",
       "      <th></th>\n",
       "      <th></th>\n",
       "      <th></th>\n",
       "      <th></th>\n",
       "      <th></th>\n",
       "    </tr>\n",
       "  </thead>\n",
       "  <tbody>\n",
       "    <tr>\n",
       "      <th>BWI</th>\n",
       "      <td>33.0</td>\n",
       "      <td>4.0</td>\n",
       "      <td>NaN</td>\n",
       "      <td>82.0</td>\n",
       "      <td>26.0</td>\n",
       "      <td>NaN</td>\n",
       "    </tr>\n",
       "    <tr>\n",
       "      <th>DCA</th>\n",
       "      <td>54.0</td>\n",
       "      <td>40.0</td>\n",
       "      <td>127.0</td>\n",
       "      <td>202.0</td>\n",
       "      <td>109.0</td>\n",
       "      <td>838.0</td>\n",
       "    </tr>\n",
       "    <tr>\n",
       "      <th>IAD</th>\n",
       "      <td>74.0</td>\n",
       "      <td>40.0</td>\n",
       "      <td>56.0</td>\n",
       "      <td>220.0</td>\n",
       "      <td>167.0</td>\n",
       "      <td>129.0</td>\n",
       "    </tr>\n",
       "  </tbody>\n",
       "</table>\n",
       "</div>"
      ],
      "text/plain": [
       "       FLIGHT_STATUS_delayed              FLIGHT_STATUS_ontime              \n",
       "DEST                     EWR   JFK    LGA                  EWR    JFK    LGA\n",
       "ORIGIN                                                                      \n",
       "BWI                     33.0   4.0    NaN                 82.0   26.0    NaN\n",
       "DCA                     54.0  40.0  127.0                202.0  109.0  838.0\n",
       "IAD                     74.0  40.0   56.0                220.0  167.0  129.0"
      ]
     },
     "execution_count": 10,
     "metadata": {},
     "output_type": "execute_result"
    }
   ],
   "source": [
    "data_explore.pivot_table(index = ['ORIGIN'], columns = ['DEST'], values = ['FLIGHT_STATUS_delayed','FLIGHT_STATUS_ontime'], aggfunc = np.sum)"
   ]
  },
  {
   "cell_type": "code",
   "execution_count": 11,
   "id": "b3a2b154",
   "metadata": {},
   "outputs": [],
   "source": [
    "delay_df.DAY_WEEK = delay_df.DAY_WEEK.astype('category')\n",
    "delay_df.WEATHER = delay_df.WEATHER.astype('category')\n",
    "\n",
    "delay_df.CRS_DEP_TIME = [round(t/100) for t in delay_df.CRS_DEP_TIME]\n",
    "delay_df.CRS_DEP_TIME = delay_df.CRS_DEP_TIME.astype('category')"
   ]
  },
  {
   "cell_type": "code",
   "execution_count": 12,
   "id": "799954c4",
   "metadata": {},
   "outputs": [],
   "source": [
    "predictors = list(delay_df.columns)[0:6]\n",
    "X = pd.get_dummies(delay_df[predictors])\n",
    "y = delay_df['FLIGHT_STATUS']\n",
    "classes = ['ontime', 'delayed']"
   ]
  },
  {
   "cell_type": "code",
   "execution_count": 13,
   "id": "3f156c90",
   "metadata": {},
   "outputs": [],
   "source": [
    "train_X, valid_X, train_y, valid_y = train_test_split(X, y, test_size=0.4, random_state=1)"
   ]
  },
  {
   "cell_type": "markdown",
   "id": "b8df61ff",
   "metadata": {},
   "source": [
    "## Naive Bayes Model"
   ]
  },
  {
   "cell_type": "code",
   "execution_count": 14,
   "id": "18951694",
   "metadata": {},
   "outputs": [
    {
     "data": {
      "text/plain": [
       "MultinomialNB(alpha=0.8)"
      ]
     },
     "execution_count": 14,
     "metadata": {},
     "output_type": "execute_result"
    }
   ],
   "source": [
    "delays_nb = MultinomialNB(alpha=0.8)\n",
    "delays_nb.fit(train_X,train_y)"
   ]
  },
  {
   "cell_type": "code",
   "execution_count": 15,
   "id": "773e8d57",
   "metadata": {
    "scrolled": true
   },
   "outputs": [
    {
     "name": "stdout",
     "output_type": "stream",
     "text": [
      "Confusion Matrix (Accuracy 0.8076)\n",
      "\n",
      "       Prediction\n",
      "Actual    0    1\n",
      "     0   54  207\n",
      "     1   47 1012\n"
     ]
    }
   ],
   "source": [
    "classificationSummary(train_y, delays_nb.predict(train_X))"
   ]
  },
  {
   "cell_type": "code",
   "execution_count": 16,
   "id": "0aa4dd61",
   "metadata": {},
   "outputs": [
    {
     "data": {
      "image/png": "[encoded data removed]",
      "text/plain": [
       "<Figure size 720x288 with 2 Axes>"
      ]
     },
     "metadata": {
      "needs_background": "light"
     },
     "output_type": "display_data"
    }
   ],
   "source": [
    "delays_nb_pred = delays_nb.predict(train_X)\n",
    "delays_nb_proba = delays_nb.predict_proba(train_X)\n",
    "delays_nb_result = pd.DataFrame ({'actual': train_y ,\n",
    "                              'p(0)': [p[0] for p in delays_nb_proba],\n",
    "                              'p(1)': [p[1] for p in delays_nb_proba],\n",
    "                              'predicted': delays_nb_pred })\n",
    "\n",
    "df = delays_nb_result.sort_values(by=['p(1)'], ascending=False)\n",
    "df = pd.get_dummies(df, drop_first = True)\n",
    "fig, axes = plt.subplots(nrows=1 , ncols=2 , figsize=(10 , 4))\n",
    "gainsChart(df.actual_ontime , ax= axes[0])\n",
    "liftChart(df['p(1)'], title=False, ax= axes[1])\n",
    "plt.tight_layout()\n",
    "plt.show()"
   ]
  },
  {
   "cell_type": "code",
   "execution_count": 17,
   "id": "c1794e8d",
   "metadata": {
    "scrolled": true
   },
   "outputs": [
    {
     "name": "stdout",
     "output_type": "stream",
     "text": [
      "Confusion Matrix (Accuracy 0.8127)\n",
      "\n",
      "       Prediction\n",
      "Actual   0   1\n",
      "     0  41 126\n",
      "     1  39 675\n"
     ]
    }
   ],
   "source": [
    "classificationSummary(valid_y, delays_nb.predict(valid_X))"
   ]
  },
  {
   "cell_type": "code",
   "execution_count": 18,
   "id": "04a8adf7",
   "metadata": {},
   "outputs": [
    {
     "data": {
      "image/png": "[encoded data removed]",
      "text/plain": [
       "<Figure size 720x288 with 2 Axes>"
      ]
     },
     "metadata": {
      "needs_background": "light"
     },
     "output_type": "display_data"
    }
   ],
   "source": [
    "delays_nb_pred = delays_nb.predict(valid_X)\n",
    "delays_nb_proba = delays_nb.predict_proba(valid_X)\n",
    "delays_nb_result = pd.DataFrame ({'actual': valid_y ,\n",
    "                              'p(0)': [p[0] for p in delays_nb_proba],\n",
    "                              'p(1)': [p[1] for p in delays_nb_proba],\n",
    "                              'predicted': delays_nb_pred })\n",
    "\n",
    "df = delays_nb_result.sort_values(by=['p(1)'], ascending=False)\n",
    "df = pd.get_dummies(df, drop_first = True)\n",
    "fig, axes = plt.subplots(nrows=1 , ncols=2 , figsize=(10 , 4))\n",
    "gainsChart(df.actual_ontime , ax= axes[0])\n",
    "liftChart(df['p(1)'], title=False, ax= axes[1])\n",
    "plt.tight_layout()\n",
    "plt.show()"
   ]
  },
  {
   "cell_type": "markdown",
   "id": "3aba9828",
   "metadata": {},
   "source": [
    "## CART Model"
   ]
  },
  {
   "cell_type": "code",
   "execution_count": 19,
   "id": "b01dfaaa",
   "metadata": {},
   "outputs": [
    {
     "data": {
      "text/plain": [
       "DecisionTreeClassifier()"
      ]
     },
     "execution_count": 19,
     "metadata": {},
     "output_type": "execute_result"
    }
   ],
   "source": [
    "classTree = DecisionTreeClassifier()\n",
    "classTree.fit(train_X,train_y)"
   ]
  },
  {
   "cell_type": "code",
   "execution_count": 20,
   "id": "20c84c4c",
   "metadata": {
    "scrolled": true
   },
   "outputs": [
    {
     "name": "stdout",
     "output_type": "stream",
     "text": [
      "Confusion Matrix (Accuracy 0.8727)\n",
      "\n",
      "       Prediction\n",
      "Actual   0   1\n",
      "     0 179  82\n",
      "     1  86 973\n"
     ]
    }
   ],
   "source": [
    "classificationSummary(train_y, classTree.predict(train_X))"
   ]
  },
  {
   "cell_type": "code",
   "execution_count": 21,
   "id": "5a87002a",
   "metadata": {},
   "outputs": [
    {
     "data": {
      "image/png": "[encoded data removed]",
      "text/plain": [
       "<Figure size 720x288 with 2 Axes>"
      ]
     },
     "metadata": {
      "needs_background": "light"
     },
     "output_type": "display_data"
    }
   ],
   "source": [
    "classTree_pred = classTree.predict(train_X)\n",
    "classTree_proba = classTree.predict_proba(train_X)\n",
    "classTree_result = pd.DataFrame ({'actual': train_y ,\n",
    "                              'p(0)': [p[0] for p in classTree_proba],\n",
    "                              'p(1)': [p[1] for p in classTree_proba],\n",
    "                              'predicted': classTree_pred })\n",
    "\n",
    "df = classTree_result.sort_values(by=['p(1)'], ascending=False)\n",
    "df = pd.get_dummies(df, drop_first = True)\n",
    "fig, axes = plt.subplots(nrows=1 , ncols=2 , figsize=(10 , 4))\n",
    "gainsChart(df.actual_ontime , ax= axes[0])\n",
    "liftChart(df['p(1)'], title=False, ax= axes[1])\n",
    "plt.tight_layout()\n",
    "plt.show()"
   ]
  },
  {
   "cell_type": "code",
   "execution_count": 22,
   "id": "f26d59fb",
   "metadata": {
    "scrolled": true
   },
   "outputs": [
    {
     "name": "stdout",
     "output_type": "stream",
     "text": [
      "Confusion Matrix (Accuracy 0.7072)\n",
      "\n",
      "       Prediction\n",
      "Actual   0   1\n",
      "     0  61 106\n",
      "     1 152 562\n"
     ]
    }
   ],
   "source": [
    "classificationSummary(valid_y, classTree.predict(valid_X))"
   ]
  },
  {
   "cell_type": "code",
   "execution_count": 23,
   "id": "840e0dba",
   "metadata": {},
   "outputs": [
    {
     "data": {
      "image/png": "[encoded data removed]",
      "text/plain": [
       "<Figure size 720x288 with 2 Axes>"
      ]
     },
     "metadata": {
      "needs_background": "light"
     },
     "output_type": "display_data"
    }
   ],
   "source": [
    "classTree_pred = classTree.predict(valid_X)\n",
    "classTree_proba = classTree.predict_proba(valid_X)\n",
    "classTree_result = pd.DataFrame ({'actual': valid_y ,\n",
    "                              'p(0)': [p[0] for p in classTree_proba],\n",
    "                              'p(1)': [p[1] for p in classTree_proba],\n",
    "                              'predicted': classTree_pred })\n",
    "\n",
    "df = classTree_result.sort_values(by=['p(1)'], ascending=False)\n",
    "df = pd.get_dummies(df, drop_first = True)\n",
    "fig, axes = plt.subplots(nrows=1 , ncols=2 , figsize=(10 , 4))\n",
    "gainsChart(df.actual_ontime , ax= axes[0])\n",
    "liftChart(df['p(1)'], title=False, ax= axes[1])\n",
    "plt.tight_layout()\n",
    "plt.show()"
   ]
  },
  {
   "cell_type": "markdown",
   "id": "31b86c1b",
   "metadata": {},
   "source": [
    "## Logistic Regression"
   ]
  },
  {
   "cell_type": "code",
   "execution_count": 24,
   "id": "a1e53d3a",
   "metadata": {},
   "outputs": [
    {
     "data": {
      "text/plain": [
       "LogisticRegression(C=1e+42, solver='liblinear')"
      ]
     },
     "execution_count": 24,
     "metadata": {},
     "output_type": "execute_result"
    }
   ],
   "source": [
    "logit_reg = LogisticRegression(C=1e42, solver='liblinear')\n",
    "logit_reg.fit(train_X, train_y)"
   ]
  },
  {
   "cell_type": "code",
   "execution_count": 25,
   "id": "fab3907e",
   "metadata": {},
   "outputs": [
    {
     "name": "stdout",
     "output_type": "stream",
     "text": [
      "Confusion Matrix (Accuracy 0.8144)\n",
      "\n",
      "       Prediction\n",
      "Actual    0    1\n",
      "     0   31  230\n",
      "     1   15 1044\n"
     ]
    }
   ],
   "source": [
    "classificationSummary(train_y, logit_reg.predict(train_X))"
   ]
  },
  {
   "cell_type": "code",
   "execution_count": 26,
   "id": "cc56ca5c",
   "metadata": {},
   "outputs": [
    {
     "data": {
      "image/png": "[encoded data removed]",
      "text/plain": [
       "<Figure size 720x288 with 2 Axes>"
      ]
     },
     "metadata": {
      "needs_background": "light"
     },
     "output_type": "display_data"
    }
   ],
   "source": [
    "logit_reg_pred = logit_reg.predict(train_X)\n",
    "logit_reg_proba = logit_reg.predict_proba(train_X)\n",
    "logit_result = pd.DataFrame ({'actual': train_y ,\n",
    "                              'p(0)': [p[0] for p in logit_reg_proba],\n",
    "                              'p(1)': [p[1] for p in logit_reg_proba],\n",
    "                              'predicted': logit_reg_pred })\n",
    "\n",
    "df = logit_result.sort_values(by=['p(1)'], ascending=False)\n",
    "df = pd.get_dummies(df, drop_first = True)\n",
    "fig, axes = plt.subplots(nrows=1 , ncols=2 , figsize=(10 , 4))\n",
    "gainsChart(df.actual_ontime , ax= axes[0])\n",
    "liftChart(df['p(1)'], title=False, ax= axes[1])\n",
    "plt.tight_layout()\n",
    "plt.show()"
   ]
  },
  {
   "cell_type": "code",
   "execution_count": 27,
   "id": "d751ab7d",
   "metadata": {
    "scrolled": false
   },
   "outputs": [
    {
     "name": "stdout",
     "output_type": "stream",
     "text": [
      "Confusion Matrix (Accuracy 0.8309)\n",
      "\n",
      "       Prediction\n",
      "Actual   0   1\n",
      "     0  27 140\n",
      "     1   9 705\n"
     ]
    }
   ],
   "source": [
    "classificationSummary(valid_y, logit_reg.predict(valid_X))"
   ]
  },
  {
   "cell_type": "code",
   "execution_count": 28,
   "id": "417d5290",
   "metadata": {},
   "outputs": [
    {
     "data": {
      "image/png": "[encoded data removed]",
      "text/plain": [
       "<Figure size 720x288 with 2 Axes>"
      ]
     },
     "metadata": {
      "needs_background": "light"
     },
     "output_type": "display_data"
    }
   ],
   "source": [
    "logit_reg_pred = logit_reg.predict(valid_X)\n",
    "logit_reg_proba = logit_reg.predict_proba(valid_X)\n",
    "logit_result = pd.DataFrame ({'actual': valid_y ,\n",
    "                              'p(0)': [p[0] for p in logit_reg_proba],\n",
    "                              'p(1)': [p[1] for p in logit_reg_proba],\n",
    "                              'predicted': logit_reg_pred })\n",
    "\n",
    "df = logit_result.sort_values(by=['p(1)'], ascending=False)\n",
    "df = pd.get_dummies(df, drop_first = True)\n",
    "fig, axes = plt.subplots(nrows=1 , ncols=2 , figsize=(10 , 4))\n",
    "gainsChart(df.actual_ontime , ax= axes[0])\n",
    "liftChart(df['p(1)'], title=False, ax= axes[1])\n",
    "plt.tight_layout()\n",
    "plt.show()"
   ]
  },
  {
   "cell_type": "markdown",
   "id": "bb78bf13",
   "metadata": {},
   "source": [
    "Creating Test dataset"
   ]
  },
  {
   "cell_type": "code",
   "execution_count": 29,
   "id": "8ebfa4ae",
   "metadata": {},
   "outputs": [],
   "source": [
    "CRS_DEP_TIME = [1655,1825,1430,1115,1345]\n",
    "CARRIER = [\"MQ\",\"US\",\"OH\",\"DL\",\"DH\"]\n",
    "DEST = [\"JFK\",\"LGA\",\"JFK\",\"EWR\",\"LGA\"]\n",
    "ORIGIN = [\"DCA\",\"IAD\",\"BWI\",\"IAD\",\"DCA\"]\n",
    "WEATHER = [0,1,0,1,1]\n",
    "DAY_WEEK = [5,3,1,7,1]\n",
    "\n",
    "diction = {'CRS_DEP_TIME':CRS_DEP_TIME, 'CARRIER':CARRIER, 'DEST':DEST, 'ORIGIN':ORIGIN, 'WEATHER':WEATHER, 'DAY_WEEK':DAY_WEEK}\n",
    "test_data = pd.DataFrame(diction)"
   ]
  },
  {
   "cell_type": "code",
   "execution_count": 30,
   "id": "c9af84b8",
   "metadata": {},
   "outputs": [],
   "source": [
    "test_data.to_csv('FlightDelaysTestingData.csv', index = False)\n",
    "\n",
    "test_data.DAY_WEEK = test_data.DAY_WEEK.astype('category')\n",
    "test_data.WEATHER = test_data.WEATHER.astype('category')\n",
    "\n",
    "test_data.CRS_DEP_TIME = [round(t/100) for t in test_data.CRS_DEP_TIME]\n",
    "test_data.CRS_DEP_TIME = test_data.CRS_DEP_TIME.astype('category')"
   ]
  },
  {
   "cell_type": "code",
   "execution_count": 31,
   "id": "2a650901",
   "metadata": {},
   "outputs": [],
   "source": [
    "test_X = pd.get_dummies(test_data)\n",
    "empty_df = pd.DataFrame(columns = X.columns)\n",
    "\n",
    "test_X = pd.concat([empty_df,test_X],ignore_index=True).fillna(0)"
   ]
  },
  {
   "cell_type": "code",
   "execution_count": 32,
   "id": "e869fdd5",
   "metadata": {},
   "outputs": [],
   "source": [
    "flight_status = logit_reg.predict(test_X)\n",
    "\n",
    "test_data['PREDICTED_FLIGHT_STATUS'] = flight_status\n",
    "test_data.to_csv('FlightDelaysTestingData.csv', index = False)"
   ]
  }
 ],
 "metadata": {
  "kernelspec": {
   "display_name": "Python 3 (ipykernel)",
   "language": "python",
   "name": "python3"
  },
  "language_info": {
   "codemirror_mode": {
    "name": "ipython",
    "version": 3
   },
   "file_extension": ".py",
   "mimetype": "text/x-python",
   "name": "python",
   "nbconvert_exporter": "python",
   "pygments_lexer": "ipython3",
   "version": "3.9.7"
  }
 },
 "nbformat": 4,
 "nbformat_minor": 5
}
